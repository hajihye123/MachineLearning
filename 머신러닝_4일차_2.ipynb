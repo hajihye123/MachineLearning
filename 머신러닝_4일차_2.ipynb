{
  "nbformat": 4,
  "nbformat_minor": 0,
  "metadata": {
    "colab": {
      "name": "머신러닝_4일차_2.ipynb",
      "provenance": [],
      "collapsed_sections": [],
      "include_colab_link": true
    },
    "kernelspec": {
      "name": "python3",
      "display_name": "Python 3"
    }
  },
  "cells": [
    {
      "cell_type": "markdown",
      "metadata": {
        "id": "view-in-github",
        "colab_type": "text"
      },
      "source": [
        "<a href=\"https://colab.research.google.com/github/hajihye123/MachineLearning_Lecture/blob/main/%EB%A8%B8%EC%8B%A0%EB%9F%AC%EB%8B%9D_4%EC%9D%BC%EC%B0%A8_2.ipynb\" target=\"_parent\"><img src=\"https://colab.research.google.com/assets/colab-badge.svg\" alt=\"Open In Colab\"/></a>"
      ]
    },
    {
      "cell_type": "code",
      "metadata": {
        "id": "RLCETQkD7_OB"
      },
      "source": [
        "from sklearn.datasets import load_iris\r\n",
        "\r\n",
        "iris = load_iris()"
      ],
      "execution_count": 1,
      "outputs": []
    },
    {
      "cell_type": "code",
      "metadata": {
        "colab": {
          "base_uri": "https://localhost:8080/"
        },
        "id": "I99oPg_l8Wf0",
        "outputId": "57515726-9cbd-4a7c-9895-6518e0a9aa10"
      },
      "source": [
        "iris.keys()"
      ],
      "execution_count": 2,
      "outputs": [
        {
          "output_type": "execute_result",
          "data": {
            "text/plain": [
              "dict_keys(['data', 'target', 'target_names', 'DESCR', 'feature_names', 'filename'])"
            ]
          },
          "metadata": {
            "tags": []
          },
          "execution_count": 2
        }
      ]
    },
    {
      "cell_type": "code",
      "metadata": {
        "id": "iLQoJISM83LL"
      },
      "source": [
        "X = iris.data[:, 2:]\r\n",
        "y = iris.target"
      ],
      "execution_count": 3,
      "outputs": []
    },
    {
      "cell_type": "code",
      "metadata": {
        "colab": {
          "base_uri": "https://localhost:8080/"
        },
        "id": "4tm7oebS9J_E",
        "outputId": "9892ea69-4d3c-4c3a-d736-6e0072fe1d06"
      },
      "source": [
        "from sklearn.tree import DecisionTreeClassifier\r\n",
        "\r\n",
        "tree_clf = DecisionTreeClassifier(max_depth=2, random_state=42)\r\n",
        "tree_clf.fit(X, y)"
      ],
      "execution_count": 4,
      "outputs": [
        {
          "output_type": "execute_result",
          "data": {
            "text/plain": [
              "DecisionTreeClassifier(ccp_alpha=0.0, class_weight=None, criterion='gini',\n",
              "                       max_depth=2, max_features=None, max_leaf_nodes=None,\n",
              "                       min_impurity_decrease=0.0, min_impurity_split=None,\n",
              "                       min_samples_leaf=1, min_samples_split=2,\n",
              "                       min_weight_fraction_leaf=0.0, presort='deprecated',\n",
              "                       random_state=42, splitter='best')"
            ]
          },
          "metadata": {
            "tags": []
          },
          "execution_count": 4
        }
      ]
    },
    {
      "cell_type": "code",
      "metadata": {
        "colab": {
          "base_uri": "https://localhost:8080/",
          "height": 35
        },
        "id": "bAE3UUTp9fbc",
        "outputId": "4500f67a-c648-44f7-abc6-8b2bb2979a6c"
      },
      "source": [
        "from graphviz import Digraph\r\n",
        "\r\n",
        "dot = Digraph(comment='Table')\r\n",
        "dot.node('A', 'TestA')\r\n",
        "dot.node('B', 'TestB')\r\n",
        "dot.edges(['AB'])\r\n",
        "dot.render()"
      ],
      "execution_count": 5,
      "outputs": [
        {
          "output_type": "execute_result",
          "data": {
            "application/vnd.google.colaboratory.intrinsic+json": {
              "type": "string"
            },
            "text/plain": [
              "'Digraph.gv.pdf'"
            ]
          },
          "metadata": {
            "tags": []
          },
          "execution_count": 5
        }
      ]
    },
    {
      "cell_type": "code",
      "metadata": {
        "colab": {
          "base_uri": "https://localhost:8080/",
          "height": 439
        },
        "id": "kYZEUbTA9-Qr",
        "outputId": "be3a1d36-b285-4042-bb3f-1ae90487347c"
      },
      "source": [
        "import os\r\n",
        "\r\n",
        "# 그림을 저장할 위치\r\n",
        "PROJECT_ROOT_DIR = \".\"\r\n",
        "CHAPTER_ID = \"decision_trees\"\r\n",
        "IMAGES_PATH = os.path.join(PROJECT_ROOT_DIR, \"images\", CHAPTER_ID)\r\n",
        "os.makedirs(IMAGES_PATH, exist_ok=True)\r\n",
        "\r\n",
        "from graphviz import Source\r\n",
        "from sklearn.tree import export_graphviz\r\n",
        "\r\n",
        "\r\n",
        "export_graphviz(\r\n",
        "        tree_clf,\r\n",
        "        out_file=os.path.join(IMAGES_PATH, \"iris_tree.dot\"),\r\n",
        "        feature_names=iris.feature_names[2:],\r\n",
        "        class_names=iris.target_names,\r\n",
        "        rounded=True,\r\n",
        "        filled=True\r\n",
        "    )\r\n",
        "\r\n",
        "Source.from_file(os.path.join(IMAGES_PATH, \"iris_tree.dot\"))\r\n"
      ],
      "execution_count": 6,
      "outputs": [
        {
          "output_type": "execute_result",
          "data": {
            "text/plain": [
              "<graphviz.files.Source at 0x7fb65e2e54e0>"
            ],
            "image/svg+xml": "<?xml version=\"1.0\" encoding=\"UTF-8\" standalone=\"no\"?>\n<!DOCTYPE svg PUBLIC \"-//W3C//DTD SVG 1.1//EN\"\n \"http://www.w3.org/Graphics/SVG/1.1/DTD/svg11.dtd\">\n<!-- Generated by graphviz version 2.40.1 (20161225.0304)\n -->\n<!-- Title: Tree Pages: 1 -->\n<svg width=\"368pt\" height=\"314pt\"\n viewBox=\"0.00 0.00 368.00 314.00\" xmlns=\"http://www.w3.org/2000/svg\" xmlns:xlink=\"http://www.w3.org/1999/xlink\">\n<g id=\"graph0\" class=\"graph\" transform=\"scale(1 1) rotate(0) translate(4 310)\">\n<title>Tree</title>\n<polygon fill=\"#ffffff\" stroke=\"transparent\" points=\"-4,4 -4,-310 364,-310 364,4 -4,4\"/>\n<!-- 0 -->\n<g id=\"node1\" class=\"node\">\n<title>0</title>\n<path fill=\"#ffffff\" stroke=\"#000000\" d=\"M219.5,-306C219.5,-306 67.5,-306 67.5,-306 61.5,-306 55.5,-300 55.5,-294 55.5,-294 55.5,-235 55.5,-235 55.5,-229 61.5,-223 67.5,-223 67.5,-223 219.5,-223 219.5,-223 225.5,-223 231.5,-229 231.5,-235 231.5,-235 231.5,-294 231.5,-294 231.5,-300 225.5,-306 219.5,-306\"/>\n<text text-anchor=\"middle\" x=\"143.5\" y=\"-290.8\" font-family=\"Helvetica,sans-Serif\" font-size=\"14.00\" fill=\"#000000\">petal length (cm) &lt;= 2.45</text>\n<text text-anchor=\"middle\" x=\"143.5\" y=\"-275.8\" font-family=\"Helvetica,sans-Serif\" font-size=\"14.00\" fill=\"#000000\">gini = 0.667</text>\n<text text-anchor=\"middle\" x=\"143.5\" y=\"-260.8\" font-family=\"Helvetica,sans-Serif\" font-size=\"14.00\" fill=\"#000000\">samples = 150</text>\n<text text-anchor=\"middle\" x=\"143.5\" y=\"-245.8\" font-family=\"Helvetica,sans-Serif\" font-size=\"14.00\" fill=\"#000000\">value = [50, 50, 50]</text>\n<text text-anchor=\"middle\" x=\"143.5\" y=\"-230.8\" font-family=\"Helvetica,sans-Serif\" font-size=\"14.00\" fill=\"#000000\">class = setosa</text>\n</g>\n<!-- 1 -->\n<g id=\"node2\" class=\"node\">\n<title>1</title>\n<path fill=\"#e58139\" stroke=\"#000000\" d=\"M111,-179.5C111,-179.5 12,-179.5 12,-179.5 6,-179.5 0,-173.5 0,-167.5 0,-167.5 0,-123.5 0,-123.5 0,-117.5 6,-111.5 12,-111.5 12,-111.5 111,-111.5 111,-111.5 117,-111.5 123,-117.5 123,-123.5 123,-123.5 123,-167.5 123,-167.5 123,-173.5 117,-179.5 111,-179.5\"/>\n<text text-anchor=\"middle\" x=\"61.5\" y=\"-164.3\" font-family=\"Helvetica,sans-Serif\" font-size=\"14.00\" fill=\"#000000\">gini = 0.0</text>\n<text text-anchor=\"middle\" x=\"61.5\" y=\"-149.3\" font-family=\"Helvetica,sans-Serif\" font-size=\"14.00\" fill=\"#000000\">samples = 50</text>\n<text text-anchor=\"middle\" x=\"61.5\" y=\"-134.3\" font-family=\"Helvetica,sans-Serif\" font-size=\"14.00\" fill=\"#000000\">value = [50, 0, 0]</text>\n<text text-anchor=\"middle\" x=\"61.5\" y=\"-119.3\" font-family=\"Helvetica,sans-Serif\" font-size=\"14.00\" fill=\"#000000\">class = setosa</text>\n</g>\n<!-- 0&#45;&gt;1 -->\n<g id=\"edge1\" class=\"edge\">\n<title>0&#45;&gt;1</title>\n<path fill=\"none\" stroke=\"#000000\" d=\"M114.8204,-222.8796C107.0917,-211.6636 98.7191,-199.5131 90.9492,-188.2372\"/>\n<polygon fill=\"#000000\" stroke=\"#000000\" points=\"93.7018,-186.0634 85.1456,-179.8149 87.9377,-190.0353 93.7018,-186.0634\"/>\n<text text-anchor=\"middle\" x=\"80.6196\" y=\"-200.7018\" font-family=\"Helvetica,sans-Serif\" font-size=\"14.00\" fill=\"#000000\">True</text>\n</g>\n<!-- 2 -->\n<g id=\"node3\" class=\"node\">\n<title>2</title>\n<path fill=\"#ffffff\" stroke=\"#000000\" d=\"M299.5,-187C299.5,-187 153.5,-187 153.5,-187 147.5,-187 141.5,-181 141.5,-175 141.5,-175 141.5,-116 141.5,-116 141.5,-110 147.5,-104 153.5,-104 153.5,-104 299.5,-104 299.5,-104 305.5,-104 311.5,-110 311.5,-116 311.5,-116 311.5,-175 311.5,-175 311.5,-181 305.5,-187 299.5,-187\"/>\n<text text-anchor=\"middle\" x=\"226.5\" y=\"-171.8\" font-family=\"Helvetica,sans-Serif\" font-size=\"14.00\" fill=\"#000000\">petal width (cm) &lt;= 1.75</text>\n<text text-anchor=\"middle\" x=\"226.5\" y=\"-156.8\" font-family=\"Helvetica,sans-Serif\" font-size=\"14.00\" fill=\"#000000\">gini = 0.5</text>\n<text text-anchor=\"middle\" x=\"226.5\" y=\"-141.8\" font-family=\"Helvetica,sans-Serif\" font-size=\"14.00\" fill=\"#000000\">samples = 100</text>\n<text text-anchor=\"middle\" x=\"226.5\" y=\"-126.8\" font-family=\"Helvetica,sans-Serif\" font-size=\"14.00\" fill=\"#000000\">value = [0, 50, 50]</text>\n<text text-anchor=\"middle\" x=\"226.5\" y=\"-111.8\" font-family=\"Helvetica,sans-Serif\" font-size=\"14.00\" fill=\"#000000\">class = versicolor</text>\n</g>\n<!-- 0&#45;&gt;2 -->\n<g id=\"edge2\" class=\"edge\">\n<title>0&#45;&gt;2</title>\n<path fill=\"none\" stroke=\"#000000\" d=\"M172.5294,-222.8796C178.6855,-214.0534 185.2451,-204.6485 191.5936,-195.5466\"/>\n<polygon fill=\"#000000\" stroke=\"#000000\" points=\"194.4967,-197.5024 197.3467,-187.2981 188.7552,-193.4978 194.4967,-197.5024\"/>\n<text text-anchor=\"middle\" x=\"201.7331\" y=\"-208.2103\" font-family=\"Helvetica,sans-Serif\" font-size=\"14.00\" fill=\"#000000\">False</text>\n</g>\n<!-- 3 -->\n<g id=\"node4\" class=\"node\">\n<title>3</title>\n<path fill=\"#4de88e\" stroke=\"#000000\" d=\"M206.5,-68C206.5,-68 102.5,-68 102.5,-68 96.5,-68 90.5,-62 90.5,-56 90.5,-56 90.5,-12 90.5,-12 90.5,-6 96.5,0 102.5,0 102.5,0 206.5,0 206.5,0 212.5,0 218.5,-6 218.5,-12 218.5,-12 218.5,-56 218.5,-56 218.5,-62 212.5,-68 206.5,-68\"/>\n<text text-anchor=\"middle\" x=\"154.5\" y=\"-52.8\" font-family=\"Helvetica,sans-Serif\" font-size=\"14.00\" fill=\"#000000\">gini = 0.168</text>\n<text text-anchor=\"middle\" x=\"154.5\" y=\"-37.8\" font-family=\"Helvetica,sans-Serif\" font-size=\"14.00\" fill=\"#000000\">samples = 54</text>\n<text text-anchor=\"middle\" x=\"154.5\" y=\"-22.8\" font-family=\"Helvetica,sans-Serif\" font-size=\"14.00\" fill=\"#000000\">value = [0, 49, 5]</text>\n<text text-anchor=\"middle\" x=\"154.5\" y=\"-7.8\" font-family=\"Helvetica,sans-Serif\" font-size=\"14.00\" fill=\"#000000\">class = versicolor</text>\n</g>\n<!-- 2&#45;&gt;3 -->\n<g id=\"edge3\" class=\"edge\">\n<title>2&#45;&gt;3</title>\n<path fill=\"none\" stroke=\"#000000\" d=\"M199.6899,-103.9815C193.9331,-95.0666 187.8404,-85.6313 182.0559,-76.6734\"/>\n<polygon fill=\"#000000\" stroke=\"#000000\" points=\"184.9904,-74.7658 176.6254,-68.2637 179.1099,-78.5631 184.9904,-74.7658\"/>\n</g>\n<!-- 4 -->\n<g id=\"node5\" class=\"node\">\n<title>4</title>\n<path fill=\"#843de6\" stroke=\"#000000\" d=\"M348,-68C348,-68 249,-68 249,-68 243,-68 237,-62 237,-56 237,-56 237,-12 237,-12 237,-6 243,0 249,0 249,0 348,0 348,0 354,0 360,-6 360,-12 360,-12 360,-56 360,-56 360,-62 354,-68 348,-68\"/>\n<text text-anchor=\"middle\" x=\"298.5\" y=\"-52.8\" font-family=\"Helvetica,sans-Serif\" font-size=\"14.00\" fill=\"#000000\">gini = 0.043</text>\n<text text-anchor=\"middle\" x=\"298.5\" y=\"-37.8\" font-family=\"Helvetica,sans-Serif\" font-size=\"14.00\" fill=\"#000000\">samples = 46</text>\n<text text-anchor=\"middle\" x=\"298.5\" y=\"-22.8\" font-family=\"Helvetica,sans-Serif\" font-size=\"14.00\" fill=\"#000000\">value = [0, 1, 45]</text>\n<text text-anchor=\"middle\" x=\"298.5\" y=\"-7.8\" font-family=\"Helvetica,sans-Serif\" font-size=\"14.00\" fill=\"#000000\">class = virginica</text>\n</g>\n<!-- 2&#45;&gt;4 -->\n<g id=\"edge4\" class=\"edge\">\n<title>2&#45;&gt;4</title>\n<path fill=\"none\" stroke=\"#000000\" d=\"M253.3101,-103.9815C259.0669,-95.0666 265.1596,-85.6313 270.9441,-76.6734\"/>\n<polygon fill=\"#000000\" stroke=\"#000000\" points=\"273.8901,-78.5631 276.3746,-68.2637 268.0096,-74.7658 273.8901,-78.5631\"/>\n</g>\n</g>\n</svg>\n"
          },
          "metadata": {
            "tags": []
          },
          "execution_count": 6
        }
      ]
    },
    {
      "cell_type": "code",
      "metadata": {
        "colab": {
          "base_uri": "https://localhost:8080/"
        },
        "id": "aJKKubil-ele",
        "outputId": "a46f12b4-1756-4193-80fc-4581e437680b"
      },
      "source": [
        "tree_clf.predict_proba([[5, 1.5]])"
      ],
      "execution_count": 7,
      "outputs": [
        {
          "output_type": "execute_result",
          "data": {
            "text/plain": [
              "array([[0.        , 0.90740741, 0.09259259]])"
            ]
          },
          "metadata": {
            "tags": []
          },
          "execution_count": 7
        }
      ]
    },
    {
      "cell_type": "code",
      "metadata": {
        "colab": {
          "base_uri": "https://localhost:8080/"
        },
        "id": "d5nnn12X_x5j",
        "outputId": "1e9f154e-796c-4aad-c7b2-ec83219696b7"
      },
      "source": [
        "tree_clf.predict([[5, 1.5]])"
      ],
      "execution_count": 8,
      "outputs": [
        {
          "output_type": "execute_result",
          "data": {
            "text/plain": [
              "array([1])"
            ]
          },
          "metadata": {
            "tags": []
          },
          "execution_count": 8
        }
      ]
    },
    {
      "cell_type": "code",
      "metadata": {
        "colab": {
          "base_uri": "https://localhost:8080/",
          "height": 287
        },
        "id": "V4o4SU0D_7iU",
        "outputId": "fc228b6f-9c94-4007-f611-6a84be085fde"
      },
      "source": [
        "from matplotlib.colors import ListedColormap\r\n",
        "import matplotlib.pyplot as plt\r\n",
        "import numpy as np\r\n",
        "\r\n",
        "def plot_decision_boundary(clf, X, y, axes=[0, 7.5, 0, 3], iris=True, legend=False, plot_training=True):\r\n",
        "    x1s = np.linspace(axes[0], axes[1], 100)\r\n",
        "    x2s = np.linspace(axes[2], axes[3], 100)\r\n",
        "    x1, x2 = np.meshgrid(x1s, x2s)\r\n",
        "    X_new = np.c_[x1.ravel(), x2.ravel()]\r\n",
        "    y_pred = clf.predict(X_new).reshape(x1.shape)\r\n",
        "    custom_cmap = ListedColormap(['#fafab0','#9898ff','#a0faa0'])\r\n",
        "    plt.contourf(x1, x2, y_pred, alpha=0.3, cmap=custom_cmap)\r\n",
        "    if not iris:\r\n",
        "        custom_cmap2 = ListedColormap(['#7d7d58','#4c4c7f','#507d50'])\r\n",
        "        plt.contour(x1, x2, y_pred, cmap=custom_cmap2, alpha=0.8)\r\n",
        "    if plot_training:\r\n",
        "        plt.plot(X[:, 0][y==0], X[:, 1][y==0], \"yo\", label=\"Iris setosa\")\r\n",
        "        plt.plot(X[:, 0][y==1], X[:, 1][y==1], \"bs\", label=\"Iris versicolor\")\r\n",
        "        plt.plot(X[:, 0][y==2], X[:, 1][y==2], \"g^\", label=\"Iris virginica\")\r\n",
        "        plt.axis(axes)\r\n",
        "    if iris:\r\n",
        "        plt.xlabel(\"Petal length\", fontsize=14)\r\n",
        "        plt.ylabel(\"Petal width\", fontsize=14)\r\n",
        "    else:\r\n",
        "        plt.xlabel(r\"$x_1$\", fontsize=18)\r\n",
        "        plt.ylabel(r\"$x_2$\", fontsize=18, rotation=0)\r\n",
        "    if legend:\r\n",
        "        plt.legend(loc=\"lower right\", fontsize=14)\r\n",
        "\r\n",
        "plt.figure(figsize=(8, 4))\r\n",
        "plot_decision_boundary(tree_clf, X, y)\r\n",
        "plt.plot([2.45, 2.45], [0, 3], \"k-\", linewidth=2)\r\n",
        "plt.plot([2.45, 7.5], [1.75, 1.75], \"k--\", linewidth=2)\r\n",
        "plt.plot([4.95, 4.95], [0, 1.75], \"k:\", linewidth=2)\r\n",
        "plt.plot([4.85, 4.85], [1.75, 3], \"k:\", linewidth=2)\r\n",
        "plt.text(1.40, 1.0, \"Depth=0\", fontsize=15)\r\n",
        "plt.text(3.2, 1.80, \"Depth=1\", fontsize=13)\r\n",
        "plt.text(4.05, 0.5, \"(Depth=2)\", fontsize=11)\r\n",
        "\r\n",
        "plt.show()"
      ],
      "execution_count": 9,
      "outputs": [
        {
          "output_type": "display_data",
          "data": {
            "image/png": "[encoded data removed]",
            "text/plain": [
              "<Figure size 576x288 with 1 Axes>"
            ]
          },
          "metadata": {
            "tags": [],
            "needs_background": "light"
          }
        }
      ]
    },
    {
      "cell_type": "code",
      "metadata": {
        "id": "fLSzw4V0AB9b"
      },
      "source": [
        "X = iris.data\r\n",
        "y = iris.target"
      ],
      "execution_count": 10,
      "outputs": []
    },
    {
      "cell_type": "code",
      "metadata": {
        "id": "4VYg-5YpAZzT"
      },
      "source": [
        "from sklearn.model_selection import train_test_split\r\n",
        "\r\n",
        "X_train, X_test, y_train, y_test = train_test_split(X, y, test_size=0.2)"
      ],
      "execution_count": 11,
      "outputs": []
    },
    {
      "cell_type": "code",
      "metadata": {
        "colab": {
          "base_uri": "https://localhost:8080/"
        },
        "id": "wscDE9FRApy8",
        "outputId": "0c5f71b8-1a6b-41a2-f69a-614bf40da122"
      },
      "source": [
        "from sklearn.tree import DecisionTreeClassifier\r\n",
        "\r\n",
        "tree_clf = DecisionTreeClassifier(max_depth=4, min_samples_split= 20, random_state=42)\r\n",
        "tree_clf.fit(X_train, y_train)"
      ],
      "execution_count": 12,
      "outputs": [
        {
          "output_type": "execute_result",
          "data": {
            "text/plain": [
              "DecisionTreeClassifier(ccp_alpha=0.0, class_weight=None, criterion='gini',\n",
              "                       max_depth=4, max_features=None, max_leaf_nodes=None,\n",
              "                       min_impurity_decrease=0.0, min_impurity_split=None,\n",
              "                       min_samples_leaf=1, min_samples_split=20,\n",
              "                       min_weight_fraction_leaf=0.0, presort='deprecated',\n",
              "                       random_state=42, splitter='best')"
            ]
          },
          "metadata": {
            "tags": []
          },
          "execution_count": 12
        }
      ]
    },
    {
      "cell_type": "code",
      "metadata": {
        "colab": {
          "base_uri": "https://localhost:8080/",
          "height": 756
        },
        "id": "5EfmmikjA5wj",
        "outputId": "dea162b0-375a-4746-ad3a-f74929914023"
      },
      "source": [
        "export_graphviz(\r\n",
        "        tree_clf,\r\n",
        "        out_file=os.path.join(IMAGES_PATH, \"iris_tree.dot\"),\r\n",
        "        feature_names=iris.feature_names,\r\n",
        "        class_names=iris.target_names,\r\n",
        "        rounded=True,\r\n",
        "        filled=True\r\n",
        "    )\r\n",
        "\r\n",
        "Source.from_file(os.path.join(IMAGES_PATH, \"iris_tree.dot\"))"
      ],
      "execution_count": 13,
      "outputs": [
        {
          "output_type": "execute_result",
          "data": {
            "text/plain": [
              "<graphviz.files.Source at 0x7fb65e2e5dd8>"
            ],
            "image/svg+xml": "<?xml version=\"1.0\" encoding=\"UTF-8\" standalone=\"no\"?>\n<!DOCTYPE svg PUBLIC \"-//W3C//DTD SVG 1.1//EN\"\n \"http://www.w3.org/Graphics/SVG/1.1/DTD/svg11.dtd\">\n<!-- Generated by graphviz version 2.40.1 (20161225.0304)\n -->\n<!-- Title: Tree Pages: 1 -->\n<svg width=\"540pt\" height=\"552pt\"\n viewBox=\"0.00 0.00 540.00 552.00\" xmlns=\"http://www.w3.org/2000/svg\" xmlns:xlink=\"http://www.w3.org/1999/xlink\">\n<g id=\"graph0\" class=\"graph\" transform=\"scale(1 1) rotate(0) translate(4 548)\">\n<title>Tree</title>\n<polygon fill=\"#ffffff\" stroke=\"transparent\" points=\"-4,4 -4,-548 536,-548 536,4 -4,4\"/>\n<!-- 0 -->\n<g id=\"node1\" class=\"node\">\n<title>0</title>\n<path fill=\"#fef9f5\" stroke=\"#000000\" d=\"M221.5,-544C221.5,-544 69.5,-544 69.5,-544 63.5,-544 57.5,-538 57.5,-532 57.5,-532 57.5,-473 57.5,-473 57.5,-467 63.5,-461 69.5,-461 69.5,-461 221.5,-461 221.5,-461 227.5,-461 233.5,-467 233.5,-473 233.5,-473 233.5,-532 233.5,-532 233.5,-538 227.5,-544 221.5,-544\"/>\n<text text-anchor=\"middle\" x=\"145.5\" y=\"-528.8\" font-family=\"Helvetica,sans-Serif\" font-size=\"14.00\" fill=\"#000000\">petal length (cm) &lt;= 2.45</text>\n<text text-anchor=\"middle\" x=\"145.5\" y=\"-513.8\" font-family=\"Helvetica,sans-Serif\" font-size=\"14.00\" fill=\"#000000\">gini = 0.662</text>\n<text text-anchor=\"middle\" x=\"145.5\" y=\"-498.8\" font-family=\"Helvetica,sans-Serif\" font-size=\"14.00\" fill=\"#000000\">samples = 120</text>\n<text text-anchor=\"middle\" x=\"145.5\" y=\"-483.8\" font-family=\"Helvetica,sans-Serif\" font-size=\"14.00\" fill=\"#000000\">value = [45, 41, 34]</text>\n<text text-anchor=\"middle\" x=\"145.5\" y=\"-468.8\" font-family=\"Helvetica,sans-Serif\" font-size=\"14.00\" fill=\"#000000\">class = setosa</text>\n</g>\n<!-- 1 -->\n<g id=\"node2\" class=\"node\">\n<title>1</title>\n<path fill=\"#e58139\" stroke=\"#000000\" d=\"M111,-417.5C111,-417.5 12,-417.5 12,-417.5 6,-417.5 0,-411.5 0,-405.5 0,-405.5 0,-361.5 0,-361.5 0,-355.5 6,-349.5 12,-349.5 12,-349.5 111,-349.5 111,-349.5 117,-349.5 123,-355.5 123,-361.5 123,-361.5 123,-405.5 123,-405.5 123,-411.5 117,-417.5 111,-417.5\"/>\n<text text-anchor=\"middle\" x=\"61.5\" y=\"-402.3\" font-family=\"Helvetica,sans-Serif\" font-size=\"14.00\" fill=\"#000000\">gini = 0.0</text>\n<text text-anchor=\"middle\" x=\"61.5\" y=\"-387.3\" font-family=\"Helvetica,sans-Serif\" font-size=\"14.00\" fill=\"#000000\">samples = 45</text>\n<text text-anchor=\"middle\" x=\"61.5\" y=\"-372.3\" font-family=\"Helvetica,sans-Serif\" font-size=\"14.00\" fill=\"#000000\">value = [45, 0, 0]</text>\n<text text-anchor=\"middle\" x=\"61.5\" y=\"-357.3\" font-family=\"Helvetica,sans-Serif\" font-size=\"14.00\" fill=\"#000000\">class = setosa</text>\n</g>\n<!-- 0&#45;&gt;1 -->\n<g id=\"edge1\" class=\"edge\">\n<title>0&#45;&gt;1</title>\n<path fill=\"none\" stroke=\"#000000\" d=\"M116.1209,-460.8796C108.2037,-449.6636 99.6269,-437.5131 91.6675,-426.2372\"/>\n<polygon fill=\"#000000\" stroke=\"#000000\" points=\"94.3486,-423.9662 85.7223,-417.8149 88.6298,-428.003 94.3486,-423.9662\"/>\n<text text-anchor=\"middle\" x=\"81.4746\" y=\"-438.7514\" font-family=\"Helvetica,sans-Serif\" font-size=\"14.00\" fill=\"#000000\">True</text>\n</g>\n<!-- 2 -->\n<g id=\"node3\" class=\"node\">\n<title>2</title>\n<path fill=\"#ddfbe9\" stroke=\"#000000\" d=\"M305.5,-425C305.5,-425 153.5,-425 153.5,-425 147.5,-425 141.5,-419 141.5,-413 141.5,-413 141.5,-354 141.5,-354 141.5,-348 147.5,-342 153.5,-342 153.5,-342 305.5,-342 305.5,-342 311.5,-342 317.5,-348 317.5,-354 317.5,-354 317.5,-413 317.5,-413 317.5,-419 311.5,-425 305.5,-425\"/>\n<text text-anchor=\"middle\" x=\"229.5\" y=\"-409.8\" font-family=\"Helvetica,sans-Serif\" font-size=\"14.00\" fill=\"#000000\">petal length (cm) &lt;= 4.75</text>\n<text text-anchor=\"middle\" x=\"229.5\" y=\"-394.8\" font-family=\"Helvetica,sans-Serif\" font-size=\"14.00\" fill=\"#000000\">gini = 0.496</text>\n<text text-anchor=\"middle\" x=\"229.5\" y=\"-379.8\" font-family=\"Helvetica,sans-Serif\" font-size=\"14.00\" fill=\"#000000\">samples = 75</text>\n<text text-anchor=\"middle\" x=\"229.5\" y=\"-364.8\" font-family=\"Helvetica,sans-Serif\" font-size=\"14.00\" fill=\"#000000\">value = [0, 41, 34]</text>\n<text text-anchor=\"middle\" x=\"229.5\" y=\"-349.8\" font-family=\"Helvetica,sans-Serif\" font-size=\"14.00\" fill=\"#000000\">class = versicolor</text>\n</g>\n<!-- 0&#45;&gt;2 -->\n<g id=\"edge2\" class=\"edge\">\n<title>0&#45;&gt;2</title>\n<path fill=\"none\" stroke=\"#000000\" d=\"M174.8791,-460.8796C181.1094,-452.0534 187.7481,-442.6485 194.173,-433.5466\"/>\n<polygon fill=\"#000000\" stroke=\"#000000\" points=\"197.088,-435.4862 199.9955,-425.2981 191.3692,-431.4494 197.088,-435.4862\"/>\n<text text-anchor=\"middle\" x=\"204.2432\" y=\"-446.2346\" font-family=\"Helvetica,sans-Serif\" font-size=\"14.00\" fill=\"#000000\">False</text>\n</g>\n<!-- 3 -->\n<g id=\"node4\" class=\"node\">\n<title>3</title>\n<path fill=\"#39e581\" stroke=\"#000000\" d=\"M198.5,-298.5C198.5,-298.5 94.5,-298.5 94.5,-298.5 88.5,-298.5 82.5,-292.5 82.5,-286.5 82.5,-286.5 82.5,-242.5 82.5,-242.5 82.5,-236.5 88.5,-230.5 94.5,-230.5 94.5,-230.5 198.5,-230.5 198.5,-230.5 204.5,-230.5 210.5,-236.5 210.5,-242.5 210.5,-242.5 210.5,-286.5 210.5,-286.5 210.5,-292.5 204.5,-298.5 198.5,-298.5\"/>\n<text text-anchor=\"middle\" x=\"146.5\" y=\"-283.3\" font-family=\"Helvetica,sans-Serif\" font-size=\"14.00\" fill=\"#000000\">gini = 0.0</text>\n<text text-anchor=\"middle\" x=\"146.5\" y=\"-268.3\" font-family=\"Helvetica,sans-Serif\" font-size=\"14.00\" fill=\"#000000\">samples = 36</text>\n<text text-anchor=\"middle\" x=\"146.5\" y=\"-253.3\" font-family=\"Helvetica,sans-Serif\" font-size=\"14.00\" fill=\"#000000\">value = [0, 36, 0]</text>\n<text text-anchor=\"middle\" x=\"146.5\" y=\"-238.3\" font-family=\"Helvetica,sans-Serif\" font-size=\"14.00\" fill=\"#000000\">class = versicolor</text>\n</g>\n<!-- 2&#45;&gt;3 -->\n<g id=\"edge3\" class=\"edge\">\n<title>2&#45;&gt;3</title>\n<path fill=\"none\" stroke=\"#000000\" d=\"M200.4706,-341.8796C192.6477,-330.6636 184.173,-318.5131 176.3083,-307.2372\"/>\n<polygon fill=\"#000000\" stroke=\"#000000\" points=\"179.0254,-305.0147 170.4339,-298.8149 173.284,-309.0192 179.0254,-305.0147\"/>\n</g>\n<!-- 4 -->\n<g id=\"node5\" class=\"node\">\n<title>4</title>\n<path fill=\"#9456e9\" stroke=\"#000000\" d=\"M386.5,-306C386.5,-306 240.5,-306 240.5,-306 234.5,-306 228.5,-300 228.5,-294 228.5,-294 228.5,-235 228.5,-235 228.5,-229 234.5,-223 240.5,-223 240.5,-223 386.5,-223 386.5,-223 392.5,-223 398.5,-229 398.5,-235 398.5,-235 398.5,-294 398.5,-294 398.5,-300 392.5,-306 386.5,-306\"/>\n<text text-anchor=\"middle\" x=\"313.5\" y=\"-290.8\" font-family=\"Helvetica,sans-Serif\" font-size=\"14.00\" fill=\"#000000\">petal width (cm) &lt;= 1.75</text>\n<text text-anchor=\"middle\" x=\"313.5\" y=\"-275.8\" font-family=\"Helvetica,sans-Serif\" font-size=\"14.00\" fill=\"#000000\">gini = 0.224</text>\n<text text-anchor=\"middle\" x=\"313.5\" y=\"-260.8\" font-family=\"Helvetica,sans-Serif\" font-size=\"14.00\" fill=\"#000000\">samples = 39</text>\n<text text-anchor=\"middle\" x=\"313.5\" y=\"-245.8\" font-family=\"Helvetica,sans-Serif\" font-size=\"14.00\" fill=\"#000000\">value = [0, 5, 34]</text>\n<text text-anchor=\"middle\" x=\"313.5\" y=\"-230.8\" font-family=\"Helvetica,sans-Serif\" font-size=\"14.00\" fill=\"#000000\">class = virginica</text>\n</g>\n<!-- 2&#45;&gt;4 -->\n<g id=\"edge4\" class=\"edge\">\n<title>2&#45;&gt;4</title>\n<path fill=\"none\" stroke=\"#000000\" d=\"M258.8791,-341.8796C265.1094,-333.0534 271.7481,-323.6485 278.173,-314.5466\"/>\n<polygon fill=\"#000000\" stroke=\"#000000\" points=\"281.088,-316.4862 283.9955,-306.2981 275.3692,-312.4494 281.088,-316.4862\"/>\n</g>\n<!-- 5 -->\n<g id=\"node6\" class=\"node\">\n<title>5</title>\n<path fill=\"#ffffff\" stroke=\"#000000\" d=\"M280.5,-179.5C280.5,-179.5 176.5,-179.5 176.5,-179.5 170.5,-179.5 164.5,-173.5 164.5,-167.5 164.5,-167.5 164.5,-123.5 164.5,-123.5 164.5,-117.5 170.5,-111.5 176.5,-111.5 176.5,-111.5 280.5,-111.5 280.5,-111.5 286.5,-111.5 292.5,-117.5 292.5,-123.5 292.5,-123.5 292.5,-167.5 292.5,-167.5 292.5,-173.5 286.5,-179.5 280.5,-179.5\"/>\n<text text-anchor=\"middle\" x=\"228.5\" y=\"-164.3\" font-family=\"Helvetica,sans-Serif\" font-size=\"14.00\" fill=\"#000000\">gini = 0.5</text>\n<text text-anchor=\"middle\" x=\"228.5\" y=\"-149.3\" font-family=\"Helvetica,sans-Serif\" font-size=\"14.00\" fill=\"#000000\">samples = 8</text>\n<text text-anchor=\"middle\" x=\"228.5\" y=\"-134.3\" font-family=\"Helvetica,sans-Serif\" font-size=\"14.00\" fill=\"#000000\">value = [0, 4, 4]</text>\n<text text-anchor=\"middle\" x=\"228.5\" y=\"-119.3\" font-family=\"Helvetica,sans-Serif\" font-size=\"14.00\" fill=\"#000000\">class = versicolor</text>\n</g>\n<!-- 4&#45;&gt;5 -->\n<g id=\"edge5\" class=\"edge\">\n<title>4&#45;&gt;5</title>\n<path fill=\"none\" stroke=\"#000000\" d=\"M283.7711,-222.8796C275.7597,-211.6636 267.0808,-199.5131 259.0266,-188.2372\"/>\n<polygon fill=\"#000000\" stroke=\"#000000\" points=\"261.6712,-185.9179 253.0107,-179.8149 255.975,-189.9866 261.6712,-185.9179\"/>\n</g>\n<!-- 6 -->\n<g id=\"node7\" class=\"node\">\n<title>6</title>\n<path fill=\"#8540e6\" stroke=\"#000000\" d=\"M474.5,-187C474.5,-187 322.5,-187 322.5,-187 316.5,-187 310.5,-181 310.5,-175 310.5,-175 310.5,-116 310.5,-116 310.5,-110 316.5,-104 322.5,-104 322.5,-104 474.5,-104 474.5,-104 480.5,-104 486.5,-110 486.5,-116 486.5,-116 486.5,-175 486.5,-175 486.5,-181 480.5,-187 474.5,-187\"/>\n<text text-anchor=\"middle\" x=\"398.5\" y=\"-171.8\" font-family=\"Helvetica,sans-Serif\" font-size=\"14.00\" fill=\"#000000\">petal length (cm) &lt;= 4.85</text>\n<text text-anchor=\"middle\" x=\"398.5\" y=\"-156.8\" font-family=\"Helvetica,sans-Serif\" font-size=\"14.00\" fill=\"#000000\">gini = 0.062</text>\n<text text-anchor=\"middle\" x=\"398.5\" y=\"-141.8\" font-family=\"Helvetica,sans-Serif\" font-size=\"14.00\" fill=\"#000000\">samples = 31</text>\n<text text-anchor=\"middle\" x=\"398.5\" y=\"-126.8\" font-family=\"Helvetica,sans-Serif\" font-size=\"14.00\" fill=\"#000000\">value = [0, 1, 30]</text>\n<text text-anchor=\"middle\" x=\"398.5\" y=\"-111.8\" font-family=\"Helvetica,sans-Serif\" font-size=\"14.00\" fill=\"#000000\">class = virginica</text>\n</g>\n<!-- 4&#45;&gt;6 -->\n<g id=\"edge6\" class=\"edge\">\n<title>4&#45;&gt;6</title>\n<path fill=\"none\" stroke=\"#000000\" d=\"M343.2289,-222.8796C349.5333,-214.0534 356.251,-204.6485 362.7524,-195.5466\"/>\n<polygon fill=\"#000000\" stroke=\"#000000\" points=\"365.6799,-197.4698 368.6442,-187.2981 359.9837,-193.4011 365.6799,-197.4698\"/>\n</g>\n<!-- 7 -->\n<g id=\"node8\" class=\"node\">\n<title>7</title>\n<path fill=\"#ffffff\" stroke=\"#000000\" d=\"M378.5,-68C378.5,-68 274.5,-68 274.5,-68 268.5,-68 262.5,-62 262.5,-56 262.5,-56 262.5,-12 262.5,-12 262.5,-6 268.5,0 274.5,0 274.5,0 378.5,0 378.5,0 384.5,0 390.5,-6 390.5,-12 390.5,-12 390.5,-56 390.5,-56 390.5,-62 384.5,-68 378.5,-68\"/>\n<text text-anchor=\"middle\" x=\"326.5\" y=\"-52.8\" font-family=\"Helvetica,sans-Serif\" font-size=\"14.00\" fill=\"#000000\">gini = 0.5</text>\n<text text-anchor=\"middle\" x=\"326.5\" y=\"-37.8\" font-family=\"Helvetica,sans-Serif\" font-size=\"14.00\" fill=\"#000000\">samples = 2</text>\n<text text-anchor=\"middle\" x=\"326.5\" y=\"-22.8\" font-family=\"Helvetica,sans-Serif\" font-size=\"14.00\" fill=\"#000000\">value = [0, 1, 1]</text>\n<text text-anchor=\"middle\" x=\"326.5\" y=\"-7.8\" font-family=\"Helvetica,sans-Serif\" font-size=\"14.00\" fill=\"#000000\">class = versicolor</text>\n</g>\n<!-- 6&#45;&gt;7 -->\n<g id=\"edge7\" class=\"edge\">\n<title>6&#45;&gt;7</title>\n<path fill=\"none\" stroke=\"#000000\" d=\"M371.6899,-103.9815C365.9331,-95.0666 359.8404,-85.6313 354.0559,-76.6734\"/>\n<polygon fill=\"#000000\" stroke=\"#000000\" points=\"356.9904,-74.7658 348.6254,-68.2637 351.1099,-78.5631 356.9904,-74.7658\"/>\n</g>\n<!-- 8 -->\n<g id=\"node9\" class=\"node\">\n<title>8</title>\n<path fill=\"#8139e5\" stroke=\"#000000\" d=\"M520,-68C520,-68 421,-68 421,-68 415,-68 409,-62 409,-56 409,-56 409,-12 409,-12 409,-6 415,0 421,0 421,0 520,0 520,0 526,0 532,-6 532,-12 532,-12 532,-56 532,-56 532,-62 526,-68 520,-68\"/>\n<text text-anchor=\"middle\" x=\"470.5\" y=\"-52.8\" font-family=\"Helvetica,sans-Serif\" font-size=\"14.00\" fill=\"#000000\">gini = 0.0</text>\n<text text-anchor=\"middle\" x=\"470.5\" y=\"-37.8\" font-family=\"Helvetica,sans-Serif\" font-size=\"14.00\" fill=\"#000000\">samples = 29</text>\n<text text-anchor=\"middle\" x=\"470.5\" y=\"-22.8\" font-family=\"Helvetica,sans-Serif\" font-size=\"14.00\" fill=\"#000000\">value = [0, 0, 29]</text>\n<text text-anchor=\"middle\" x=\"470.5\" y=\"-7.8\" font-family=\"Helvetica,sans-Serif\" font-size=\"14.00\" fill=\"#000000\">class = virginica</text>\n</g>\n<!-- 6&#45;&gt;8 -->\n<g id=\"edge8\" class=\"edge\">\n<title>6&#45;&gt;8</title>\n<path fill=\"none\" stroke=\"#000000\" d=\"M425.3101,-103.9815C431.0669,-95.0666 437.1596,-85.6313 442.9441,-76.6734\"/>\n<polygon fill=\"#000000\" stroke=\"#000000\" points=\"445.8901,-78.5631 448.3746,-68.2637 440.0096,-74.7658 445.8901,-78.5631\"/>\n</g>\n</g>\n</svg>\n"
          },
          "metadata": {
            "tags": []
          },
          "execution_count": 13
        }
      ]
    },
    {
      "cell_type": "code",
      "metadata": {
        "id": "ieT1CLNUA_oz"
      },
      "source": [
        "from sklearn.model_selection import GridSearchCV\r\n",
        "\r\n",
        "params = [\r\n",
        "          {'min_samples_leaf': [10, 20, 30], 'min_samples_split': [10, 20, 30]}\r\n",
        "]\r\n",
        "\r\n",
        "grid_search = GridSearchCV(tree_clf, params, verbose=2, cv=5)"
      ],
      "execution_count": 14,
      "outputs": []
    },
    {
      "cell_type": "code",
      "metadata": {
        "colab": {
          "base_uri": "https://localhost:8080/"
        },
        "id": "BuySIxjKENIY",
        "outputId": "4629bf1e-9d08-4c6e-b231-1774d828d509"
      },
      "source": [
        "grid_search.fit(X_train, y_train)"
      ],
      "execution_count": 15,
      "outputs": [
        {
          "output_type": "stream",
          "text": [
            "Fitting 5 folds for each of 9 candidates, totalling 45 fits\n",
            "[CV] min_samples_leaf=10, min_samples_split=10 .......................\n",
            "[CV] ........ min_samples_leaf=10, min_samples_split=10, total=   0.0s\n",
            "[CV] min_samples_leaf=10, min_samples_split=10 .......................\n",
            "[CV] ........ min_samples_leaf=10, min_samples_split=10, total=   0.0s\n",
            "[CV] min_samples_leaf=10, min_samples_split=10 .......................\n",
            "[CV] ........ min_samples_leaf=10, min_samples_split=10, total=   0.0s\n",
            "[CV] min_samples_leaf=10, min_samples_split=10 .......................\n",
            "[CV] ........ min_samples_leaf=10, min_samples_split=10, total=   0.0s\n",
            "[CV] min_samples_leaf=10, min_samples_split=10 .......................\n",
            "[CV] ........ min_samples_leaf=10, min_samples_split=10, total=   0.0s\n",
            "[CV] min_samples_leaf=10, min_samples_split=20 .......................\n",
            "[CV] ........ min_samples_leaf=10, min_samples_split=20, total=   0.0s\n",
            "[CV] min_samples_leaf=10, min_samples_split=20 .......................\n",
            "[CV] ........ min_samples_leaf=10, min_samples_split=20, total=   0.0s\n",
            "[CV] min_samples_leaf=10, min_samples_split=20 .......................\n",
            "[CV] ........ min_samples_leaf=10, min_samples_split=20, total=   0.0s\n",
            "[CV] min_samples_leaf=10, min_samples_split=20 .......................\n",
            "[CV] ........ min_samples_leaf=10, min_samples_split=20, total=   0.0s\n",
            "[CV] min_samples_leaf=10, min_samples_split=20 .......................\n",
            "[CV] ........ min_samples_leaf=10, min_samples_split=20, total=   0.0s\n",
            "[CV] min_samples_leaf=10, min_samples_split=30 .......................\n",
            "[CV] ........ min_samples_leaf=10, min_samples_split=30, total=   0.0s\n",
            "[CV] min_samples_leaf=10, min_samples_split=30 .......................\n",
            "[CV] ........ min_samples_leaf=10, min_samples_split=30, total=   0.0s\n",
            "[CV] min_samples_leaf=10, min_samples_split=30 .......................\n",
            "[CV] ........ min_samples_leaf=10, min_samples_split=30, total=   0.0s\n",
            "[CV] min_samples_leaf=10, min_samples_split=30 .......................\n",
            "[CV] ........ min_samples_leaf=10, min_samples_split=30, total=   0.0s\n",
            "[CV] min_samples_leaf=10, min_samples_split=30 .......................\n",
            "[CV] ........ min_samples_leaf=10, min_samples_split=30, total=   0.0s\n",
            "[CV] min_samples_leaf=20, min_samples_split=10 .......................\n",
            "[CV] ........ min_samples_leaf=20, min_samples_split=10, total=   0.0s\n",
            "[CV] min_samples_leaf=20, min_samples_split=10 .......................\n",
            "[CV] ........ min_samples_leaf=20, min_samples_split=10, total=   0.0s\n",
            "[CV] min_samples_leaf=20, min_samples_split=10 .......................\n",
            "[CV] ........ min_samples_leaf=20, min_samples_split=10, total=   0.0s\n",
            "[CV] min_samples_leaf=20, min_samples_split=10 .......................\n",
            "[CV] ........ min_samples_leaf=20, min_samples_split=10, total=   0.0s\n",
            "[CV] min_samples_leaf=20, min_samples_split=10 .......................\n",
            "[CV] ........ min_samples_leaf=20, min_samples_split=10, total=   0.0s\n",
            "[CV] min_samples_leaf=20, min_samples_split=20 .......................\n",
            "[CV] ........ min_samples_leaf=20, min_samples_split=20, total=   0.0s\n",
            "[CV] min_samples_leaf=20, min_samples_split=20 .......................\n",
            "[CV] ........ min_samples_leaf=20, min_samples_split=20, total=   0.0s\n",
            "[CV] min_samples_leaf=20, min_samples_split=20 .......................\n",
            "[CV] ........ min_samples_leaf=20, min_samples_split=20, total=   0.0s\n",
            "[CV] min_samples_leaf=20, min_samples_split=20 .......................\n",
            "[CV] ........ min_samples_leaf=20, min_samples_split=20, total=   0.0s\n",
            "[CV] min_samples_leaf=20, min_samples_split=20 .......................\n",
            "[CV] ........ min_samples_leaf=20, min_samples_split=20, total=   0.0s\n",
            "[CV] min_samples_leaf=20, min_samples_split=30 .......................\n",
            "[CV] ........ min_samples_leaf=20, min_samples_split=30, total=   0.0s\n",
            "[CV] min_samples_leaf=20, min_samples_split=30 .......................\n",
            "[CV] ........ min_samples_leaf=20, min_samples_split=30, total=   0.0s\n",
            "[CV] min_samples_leaf=20, min_samples_split=30 .......................\n",
            "[CV] ........ min_samples_leaf=20, min_samples_split=30, total=   0.0s\n",
            "[CV] min_samples_leaf=20, min_samples_split=30 .......................\n",
            "[CV] ........ min_samples_leaf=20, min_samples_split=30, total=   0.0s\n",
            "[CV] min_samples_leaf=20, min_samples_split=30 .......................\n",
            "[CV] ........ min_samples_leaf=20, min_samples_split=30, total=   0.0s\n",
            "[CV] min_samples_leaf=30, min_samples_split=10 .......................\n",
            "[CV] ........ min_samples_leaf=30, min_samples_split=10, total=   0.0s\n",
            "[CV] min_samples_leaf=30, min_samples_split=10 .......................\n",
            "[CV] ........ min_samples_leaf=30, min_samples_split=10, total=   0.0s\n",
            "[CV] min_samples_leaf=30, min_samples_split=10 .......................\n",
            "[CV] ........ min_samples_leaf=30, min_samples_split=10, total=   0.0s\n",
            "[CV] min_samples_leaf=30, min_samples_split=10 .......................\n",
            "[CV] ........ min_samples_leaf=30, min_samples_split=10, total=   0.0s\n",
            "[CV] min_samples_leaf=30, min_samples_split=10 .......................\n",
            "[CV] ........ min_samples_leaf=30, min_samples_split=10, total=   0.0s\n",
            "[CV] min_samples_leaf=30, min_samples_split=20 .......................\n",
            "[CV] ........ min_samples_leaf=30, min_samples_split=20, total=   0.0s\n",
            "[CV] min_samples_leaf=30, min_samples_split=20 .......................\n",
            "[CV] ........ min_samples_leaf=30, min_samples_split=20, total=   0.0s\n",
            "[CV] min_samples_leaf=30, min_samples_split=20 .......................\n",
            "[CV] ........ min_samples_leaf=30, min_samples_split=20, total=   0.0s\n",
            "[CV] min_samples_leaf=30, min_samples_split=20 .......................\n",
            "[CV] ........ min_samples_leaf=30, min_samples_split=20, total=   0.0s\n",
            "[CV] min_samples_leaf=30, min_samples_split=20 .......................\n",
            "[CV] ........ min_samples_leaf=30, min_samples_split=20, total=   0.0s\n",
            "[CV] min_samples_leaf=30, min_samples_split=30 .......................\n",
            "[CV] ........ min_samples_leaf=30, min_samples_split=30, total=   0.0s\n",
            "[CV] min_samples_leaf=30, min_samples_split=30 .......................\n",
            "[CV] ........ min_samples_leaf=30, min_samples_split=30, total=   0.0s\n",
            "[CV] min_samples_leaf=30, min_samples_split=30 .......................\n",
            "[CV] ........ min_samples_leaf=30, min_samples_split=30, total=   0.0s\n",
            "[CV] min_samples_leaf=30, min_samples_split=30 .......................\n",
            "[CV] ........ min_samples_leaf=30, min_samples_split=30, total=   0.0s\n",
            "[CV] min_samples_leaf=30, min_samples_split=30 .......................\n",
            "[CV] ........ min_samples_leaf=30, min_samples_split=30, total=   0.0s\n"
          ],
          "name": "stdout"
        },
        {
          "output_type": "stream",
          "text": [
            "[Parallel(n_jobs=1)]: Using backend SequentialBackend with 1 concurrent workers.\n",
            "[Parallel(n_jobs=1)]: Done   1 out of   1 | elapsed:    0.0s remaining:    0.0s\n",
            "[Parallel(n_jobs=1)]: Done  45 out of  45 | elapsed:    0.2s finished\n"
          ],
          "name": "stderr"
        },
        {
          "output_type": "execute_result",
          "data": {
            "text/plain": [
              "GridSearchCV(cv=5, error_score=nan,\n",
              "             estimator=DecisionTreeClassifier(ccp_alpha=0.0, class_weight=None,\n",
              "                                              criterion='gini', max_depth=4,\n",
              "                                              max_features=None,\n",
              "                                              max_leaf_nodes=None,\n",
              "                                              min_impurity_decrease=0.0,\n",
              "                                              min_impurity_split=None,\n",
              "                                              min_samples_leaf=1,\n",
              "                                              min_samples_split=20,\n",
              "                                              min_weight_fraction_leaf=0.0,\n",
              "                                              presort='deprecated',\n",
              "                                              random_state=42,\n",
              "                                              splitter='best'),\n",
              "             iid='deprecated', n_jobs=None,\n",
              "             param_grid=[{'min_samples_leaf': [10, 20, 30],\n",
              "                          'min_samples_split': [10, 20, 30]}],\n",
              "             pre_dispatch='2*n_jobs', refit=True, return_train_score=False,\n",
              "             scoring=None, verbose=2)"
            ]
          },
          "metadata": {
            "tags": []
          },
          "execution_count": 15
        }
      ]
    },
    {
      "cell_type": "code",
      "metadata": {
        "colab": {
          "base_uri": "https://localhost:8080/"
        },
        "id": "Gci188pqEQuK",
        "outputId": "432715b0-579f-4193-bd5a-d5bccadb0ecb"
      },
      "source": [
        "grid_search.best_params_"
      ],
      "execution_count": 16,
      "outputs": [
        {
          "output_type": "execute_result",
          "data": {
            "text/plain": [
              "{'min_samples_leaf': 10, 'min_samples_split': 10}"
            ]
          },
          "metadata": {
            "tags": []
          },
          "execution_count": 16
        }
      ]
    },
    {
      "cell_type": "code",
      "metadata": {
        "colab": {
          "base_uri": "https://localhost:8080/"
        },
        "id": "TLnM9ZCgFR6s",
        "outputId": "eabe64c3-62d7-4539-9cdb-cb4a677d53ae"
      },
      "source": [
        "X_test.shape, y_test.shape"
      ],
      "execution_count": 17,
      "outputs": [
        {
          "output_type": "execute_result",
          "data": {
            "text/plain": [
              "((30, 4), (30,))"
            ]
          },
          "metadata": {
            "tags": []
          },
          "execution_count": 17
        }
      ]
    },
    {
      "cell_type": "code",
      "metadata": {
        "id": "OQAZA_dxEW-j"
      },
      "source": [
        "from sklearn.model_selection import cross_val_predict\r\n",
        "\r\n",
        "y_train_pred = grid_search.best_estimator_.predict(X_test)"
      ],
      "execution_count": 18,
      "outputs": []
    },
    {
      "cell_type": "code",
      "metadata": {
        "colab": {
          "base_uri": "https://localhost:8080/"
        },
        "id": "fP5FK6ZbEp3b",
        "outputId": "b84e5cea-f711-4619-e136-8bf52109db4f"
      },
      "source": [
        "from sklearn.metrics import precision_score\r\n",
        "\r\n",
        "precision_score(y_test, y_train_pred, average='micro')"
      ],
      "execution_count": 19,
      "outputs": [
        {
          "output_type": "execute_result",
          "data": {
            "text/plain": [
              "0.9333333333333333"
            ]
          },
          "metadata": {
            "tags": []
          },
          "execution_count": 19
        }
      ]
    },
    {
      "cell_type": "code",
      "metadata": {
        "id": "zOXT6pFyE5TL"
      },
      "source": [
        "from sklearn.datasets import make_moons\r\n",
        "\r\n",
        "X, y = make_moons(n_samples=10000, noise=0.4, random_state=42)"
      ],
      "execution_count": 20,
      "outputs": []
    },
    {
      "cell_type": "code",
      "metadata": {
        "colab": {
          "base_uri": "https://localhost:8080/",
          "height": 283
        },
        "id": "Km5I4181F21K",
        "outputId": "8b58b2c1-0730-4e44-afb3-9a77f7a61b4d"
      },
      "source": [
        "import matplotlib.pyplot as plt\r\n",
        "\r\n",
        "plt.scatter(X[:, 0], X[:, 1], marker='o', c=y, s=100,\r\n",
        "            edgecolor=\"k\", linewidth=2)\r\n",
        "plt.xlabel(\"$X_1$\")\r\n",
        "plt.ylabel(\"$X_2$\")\r\n",
        "plt.show()"
      ],
      "execution_count": 21,
      "outputs": [
        {
          "output_type": "display_data",
          "data": {
            "image/png": "[encoded data removed]",
            "text/plain": [
              "<Figure size 432x288 with 1 Axes>"
            ]
          },
          "metadata": {
            "tags": [],
            "needs_background": "light"
          }
        }
      ]
    },
    {
      "cell_type": "code",
      "metadata": {
        "id": "z6KMncarGBUH"
      },
      "source": [
        "from sklearn.model_selection import train_test_split\r\n",
        "\r\n",
        "X_train, X_test, y_train, y_test = train_test_split(X, y, test_size=0.2, random_state=42)"
      ],
      "execution_count": 22,
      "outputs": []
    },
    {
      "cell_type": "code",
      "metadata": {
        "id": "e2-Yr3ZpGYbF"
      },
      "source": [
        "from sklearn.tree import DecisionTreeClassifier\r\n",
        "\r\n",
        "tree_clf = DecisionTreeClassifier()"
      ],
      "execution_count": 23,
      "outputs": []
    },
    {
      "cell_type": "code",
      "metadata": {
        "id": "R0SdaBlEGjky"
      },
      "source": [
        "params = {'max_leaf_nodes': list(range(2, 100)), 'min_samples_split': [10, 20, 30]}\r\n",
        "\r\n",
        "from sklearn.model_selection import GridSearchCV\r\n",
        "gs = GridSearchCV(tree_clf, params, cv=3)"
      ],
      "execution_count": 24,
      "outputs": []
    },
    {
      "cell_type": "code",
      "metadata": {
        "colab": {
          "base_uri": "https://localhost:8080/"
        },
        "id": "mC_IBncXHGtj",
        "outputId": "5615a59f-00a1-47d0-dd9d-a11f8bab7935"
      },
      "source": [
        "gs.fit(X_train, y_train)"
      ],
      "execution_count": 25,
      "outputs": [
        {
          "output_type": "execute_result",
          "data": {
            "text/plain": [
              "GridSearchCV(cv=3, error_score=nan,\n",
              "             estimator=DecisionTreeClassifier(ccp_alpha=0.0, class_weight=None,\n",
              "                                              criterion='gini', max_depth=None,\n",
              "                                              max_features=None,\n",
              "                                              max_leaf_nodes=None,\n",
              "                                              min_impurity_decrease=0.0,\n",
              "                                              min_impurity_split=None,\n",
              "                                              min_samples_leaf=1,\n",
              "                                              min_samples_split=2,\n",
              "                                              min_weight_fraction_leaf=0.0,\n",
              "                                              presort='deprecated',\n",
              "                                              random_state=None,\n",
              "                                              splitter='best'),\n",
              "             iid='deprecated', n_jobs=None,\n",
              "             param_grid={'max_leaf_nodes': [2, 3, 4, 5, 6, 7, 8, 9, 10, 11, 12,\n",
              "                                            13, 14, 15, 16, 17, 18, 19, 20, 21,\n",
              "                                            22, 23, 24, 25, 26, 27, 28, 29, 30,\n",
              "                                            31, ...],\n",
              "                         'min_samples_split': [10, 20, 30]},\n",
              "             pre_dispatch='2*n_jobs', refit=True, return_train_score=False,\n",
              "             scoring=None, verbose=0)"
            ]
          },
          "metadata": {
            "tags": []
          },
          "execution_count": 25
        }
      ]
    },
    {
      "cell_type": "code",
      "metadata": {
        "colab": {
          "base_uri": "https://localhost:8080/"
        },
        "id": "MRBVqW-0HRGS",
        "outputId": "9b89774e-e3f6-4085-c428-7681dee038db"
      },
      "source": [
        "gs.best_params_"
      ],
      "execution_count": 26,
      "outputs": [
        {
          "output_type": "execute_result",
          "data": {
            "text/plain": [
              "{'max_leaf_nodes': 17, 'min_samples_split': 10}"
            ]
          },
          "metadata": {
            "tags": []
          },
          "execution_count": 26
        }
      ]
    },
    {
      "cell_type": "code",
      "metadata": {
        "id": "gDykzttrHb95"
      },
      "source": [
        "from sklearn.model_selection import ShuffleSplit\r\n",
        "\r\n",
        "n_trees = 1000\r\n",
        "\r\n",
        "rs = ShuffleSplit(n_splits=n_trees, test_size=len(X_train) - 100, random_state=42)"
      ],
      "execution_count": 27,
      "outputs": []
    },
    {
      "cell_type": "code",
      "metadata": {
        "id": "imFh-q6SKkw3"
      },
      "source": [
        "mini_sets = []\r\n",
        "for mini_train_index, mini_test_index in rs.split(X_train):\r\n",
        "  X_mini_train = X_train[mini_train_index]\r\n",
        "  y_mini_train = y_train[mini_train_index]\r\n",
        "  mini_sets.append((X_mini_train, y_mini_train))"
      ],
      "execution_count": 28,
      "outputs": []
    },
    {
      "cell_type": "code",
      "metadata": {
        "colab": {
          "base_uri": "https://localhost:8080/"
        },
        "id": "47GJ14zCLEs8",
        "outputId": "40b7d1a9-2e3a-4cab-def5-8ab0e4b712fd"
      },
      "source": [
        "len(mini_sets)"
      ],
      "execution_count": 29,
      "outputs": [
        {
          "output_type": "execute_result",
          "data": {
            "text/plain": [
              "1000"
            ]
          },
          "metadata": {
            "tags": []
          },
          "execution_count": 29
        }
      ]
    },
    {
      "cell_type": "code",
      "metadata": {
        "id": "Fd2lC14aLHFi"
      },
      "source": [
        "from sklearn.base import clone\r\n",
        "\r\n",
        "forest = [clone(gs.best_estimator_) for _ in range(n_trees)]"
      ],
      "execution_count": 30,
      "outputs": []
    },
    {
      "cell_type": "code",
      "metadata": {
        "colab": {
          "base_uri": "https://localhost:8080/"
        },
        "id": "TZr354SHLkhT",
        "outputId": "d0a30832-9d41-43c9-900f-a174565771be"
      },
      "source": [
        "from sklearn.metrics import accuracy_score\r\n",
        "\r\n",
        "accuracy_scores = []\r\n",
        "\r\n",
        "for tree, (X_mini_train, y_mini_train) in zip(forest, mini_sets):\r\n",
        "    tree.fit(X_mini_train, y_mini_train)\r\n",
        "    \r\n",
        "    y_pred = tree.predict(X_test)\r\n",
        "    accuracy_scores.append(accuracy_score(y_test, y_pred))\r\n",
        "\r\n",
        "np.mean(accuracy_scores)\r\n"
      ],
      "execution_count": 31,
      "outputs": [
        {
          "output_type": "execute_result",
          "data": {
            "text/plain": [
              "0.8096659999999999"
            ]
          },
          "metadata": {
            "tags": []
          },
          "execution_count": 31
        }
      ]
    },
    {
      "cell_type": "code",
      "metadata": {
        "id": "W7Tw0TxFL8FF"
      },
      "source": [
        "Y_pred = np.empty([n_trees, len(X_test)], dtype=np.uint8)\r\n",
        "\r\n",
        "for tree_index, tree in enumerate(forest):\r\n",
        "    Y_pred[tree_index] = tree.predict(X_test)"
      ],
      "execution_count": 32,
      "outputs": []
    },
    {
      "cell_type": "code",
      "metadata": {
        "id": "xocybuyAMPtK"
      },
      "source": [
        "from scipy.stats import mode\r\n",
        "\r\n",
        "y_pred_majority_votes, n_votes = mode(Y_pred, axis=0)"
      ],
      "execution_count": 33,
      "outputs": []
    },
    {
      "cell_type": "code",
      "metadata": {
        "colab": {
          "base_uri": "https://localhost:8080/"
        },
        "id": "xgQiQ4DoMRbq",
        "outputId": "8da3c464-e27a-4a67-88a2-c5087b3e458d"
      },
      "source": [
        "accuracy_score(y_test, y_pred_majority_votes.reshape([-1]))"
      ],
      "execution_count": 34,
      "outputs": [
        {
          "output_type": "execute_result",
          "data": {
            "text/plain": [
              "0.874"
            ]
          },
          "metadata": {
            "tags": []
          },
          "execution_count": 34
        }
      ]
    }
  ]
}