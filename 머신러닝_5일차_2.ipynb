{
  "nbformat": 4,
  "nbformat_minor": 0,
  "metadata": {
    "colab": {
      "name": "머신러닝_5일차_오후.ipynb",
      "provenance": [],
      "collapsed_sections": [],
      "include_colab_link": true
    },
    "kernelspec": {
      "name": "python3",
      "display_name": "Python 3"
    }
  },
  "cells": [
    {
      "cell_type": "markdown",
      "metadata": {
        "id": "view-in-github",
        "colab_type": "text"
      },
      "source": [
        "<a href=\"https://colab.research.google.com/github/hajihye123/MachineLearning_Lecture/blob/main/%EB%A8%B8%EC%8B%A0%EB%9F%AC%EB%8B%9D_5%EC%9D%BC%EC%B0%A8_2.ipynb\" target=\"_parent\"><img src=\"https://colab.research.google.com/assets/colab-badge.svg\" alt=\"Open In Colab\"/></a>"
      ]
    },
    {
      "cell_type": "markdown",
      "metadata": {
        "id": "xaFJMSPqe-65"
      },
      "source": [
        "## Voting"
      ]
    },
    {
      "cell_type": "code",
      "metadata": {
        "id": "EL9z7F1GX3V0"
      },
      "source": [
        "from sklearn.datasets import fetch_openml\r\n",
        "import numpy as np\r\n",
        "\r\n",
        "mnist = fetch_openml('mnist_784', version=1)\r\n",
        "mnist.target = mnist.target.astype(np.uint8)"
      ],
      "execution_count": 1,
      "outputs": []
    },
    {
      "cell_type": "code",
      "metadata": {
        "id": "evS32IQZX_Wb"
      },
      "source": [
        "from sklearn.model_selection import train_test_split\r\n",
        "\r\n",
        "X_train_val, X_test, y_train_val, y_test = train_test_split(\r\n",
        "    mnist.data, mnist.target, test_size=10000, random_state=42)\r\n",
        "X_train, X_val, y_train, y_val = train_test_split(\r\n",
        "    X_train_val, y_train_val, test_size=10000, random_state=42)"
      ],
      "execution_count": 2,
      "outputs": []
    },
    {
      "cell_type": "code",
      "metadata": {
        "id": "YKB8zHR5YYRj"
      },
      "source": [
        "from sklearn.ensemble import RandomForestClassifier, ExtraTreesClassifier\r\n",
        "from sklearn.svm import LinearSVC\r\n",
        "\r\n",
        "random_forest_clf = RandomForestClassifier(random_state=42)\r\n",
        "extra_trees_clf = ExtraTreesClassifier(random_state=42)\r\n",
        "svm_clf = LinearSVC(max_iter=100, random_state=42)"
      ],
      "execution_count": 3,
      "outputs": []
    },
    {
      "cell_type": "code",
      "metadata": {
        "colab": {
          "base_uri": "https://localhost:8080/"
        },
        "id": "UpE8zVZ_YlYb",
        "outputId": "826d8dbc-8724-451f-fd7e-067ab168103f"
      },
      "source": [
        "estimators = [random_forest_clf, extra_trees_clf, svm_clf]\r\n",
        "for estimator in estimators:    \r\n",
        "    print(\"Training the\", estimator)\r\n",
        "    estimator.fit(X_train, y_train)"
      ],
      "execution_count": 4,
      "outputs": [
        {
          "output_type": "stream",
          "text": [
            "Training the RandomForestClassifier(bootstrap=True, ccp_alpha=0.0, class_weight=None,\n",
            "                       criterion='gini', max_depth=None, max_features='auto',\n",
            "                       max_leaf_nodes=None, max_samples=None,\n",
            "                       min_impurity_decrease=0.0, min_impurity_split=None,\n",
            "                       min_samples_leaf=1, min_samples_split=2,\n",
            "                       min_weight_fraction_leaf=0.0, n_estimators=100,\n",
            "                       n_jobs=None, oob_score=False, random_state=42, verbose=0,\n",
            "                       warm_start=False)\n",
            "Training the ExtraTreesClassifier(bootstrap=False, ccp_alpha=0.0, class_weight=None,\n",
            "                     criterion='gini', max_depth=None, max_features='auto',\n",
            "                     max_leaf_nodes=None, max_samples=None,\n",
            "                     min_impurity_decrease=0.0, min_impurity_split=None,\n",
            "                     min_samples_leaf=1, min_samples_split=2,\n",
            "                     min_weight_fraction_leaf=0.0, n_estimators=100,\n",
            "                     n_jobs=None, oob_score=False, random_state=42, verbose=0,\n",
            "                     warm_start=False)\n",
            "Training the LinearSVC(C=1.0, class_weight=None, dual=True, fit_intercept=True,\n",
            "          intercept_scaling=1, loss='squared_hinge', max_iter=100,\n",
            "          multi_class='ovr', penalty='l2', random_state=42, tol=0.0001,\n",
            "          verbose=0)\n"
          ],
          "name": "stdout"
        },
        {
          "output_type": "stream",
          "text": [
            "/usr/local/lib/python3.6/dist-packages/sklearn/svm/_base.py:947: ConvergenceWarning: Liblinear failed to converge, increase the number of iterations.\n",
            "  \"the number of iterations.\", ConvergenceWarning)\n"
          ],
          "name": "stderr"
        }
      ]
    },
    {
      "cell_type": "code",
      "metadata": {
        "colab": {
          "base_uri": "https://localhost:8080/"
        },
        "id": "bd6nDnG8Yt0i",
        "outputId": "d7ef6663-ea78-442c-81b2-7cd945516e35"
      },
      "source": [
        "[estimator.score(X_val, y_val) for estimator in estimators]"
      ],
      "execution_count": 5,
      "outputs": [
        {
          "output_type": "execute_result",
          "data": {
            "text/plain": [
              "[0.9692, 0.9715, 0.872]"
            ]
          },
          "metadata": {
            "tags": []
          },
          "execution_count": 5
        }
      ]
    },
    {
      "cell_type": "code",
      "metadata": {
        "colab": {
          "base_uri": "https://localhost:8080/"
        },
        "id": "tSfYjzHrae5y",
        "outputId": "2c96b4e7-3563-4a60-9c90-be99a9c409b3"
      },
      "source": [
        "from sklearn.ensemble import VotingClassifier\r\n",
        "\r\n",
        "named_estimators = [\r\n",
        "    (\"random_forest_clf\", random_forest_clf),\r\n",
        "    (\"extra_trees_clf\", extra_trees_clf),\r\n",
        "    (\"svm_clf\", svm_clf) \r\n",
        "]\r\n",
        "\r\n",
        "voting_clf = VotingClassifier(named_estimators)\r\n",
        "voting_clf.fit(X_train, y_train)"
      ],
      "execution_count": 6,
      "outputs": [
        {
          "output_type": "stream",
          "text": [
            "/usr/local/lib/python3.6/dist-packages/sklearn/svm/_base.py:947: ConvergenceWarning: Liblinear failed to converge, increase the number of iterations.\n",
            "  \"the number of iterations.\", ConvergenceWarning)\n"
          ],
          "name": "stderr"
        },
        {
          "output_type": "execute_result",
          "data": {
            "text/plain": [
              "VotingClassifier(estimators=[('random_forest_clf',\n",
              "                              RandomForestClassifier(bootstrap=True,\n",
              "                                                     ccp_alpha=0.0,\n",
              "                                                     class_weight=None,\n",
              "                                                     criterion='gini',\n",
              "                                                     max_depth=None,\n",
              "                                                     max_features='auto',\n",
              "                                                     max_leaf_nodes=None,\n",
              "                                                     max_samples=None,\n",
              "                                                     min_impurity_decrease=0.0,\n",
              "                                                     min_impurity_split=None,\n",
              "                                                     min_samples_leaf=1,\n",
              "                                                     min_samples_split=2,\n",
              "                                                     min_weight_fraction_leaf=0.0,\n",
              "                                                     n_estimators=100,\n",
              "                                                     n_jobs...\n",
              "                                                   n_estimators=100,\n",
              "                                                   n_jobs=None, oob_score=False,\n",
              "                                                   random_state=42, verbose=0,\n",
              "                                                   warm_start=False)),\n",
              "                             ('svm_clf',\n",
              "                              LinearSVC(C=1.0, class_weight=None, dual=True,\n",
              "                                        fit_intercept=True, intercept_scaling=1,\n",
              "                                        loss='squared_hinge', max_iter=100,\n",
              "                                        multi_class='ovr', penalty='l2',\n",
              "                                        random_state=42, tol=0.0001,\n",
              "                                        verbose=0))],\n",
              "                 flatten_transform=True, n_jobs=None, voting='hard',\n",
              "                 weights=None)"
            ]
          },
          "metadata": {
            "tags": []
          },
          "execution_count": 6
        }
      ]
    },
    {
      "cell_type": "code",
      "metadata": {
        "colab": {
          "base_uri": "https://localhost:8080/"
        },
        "id": "OrWFcmG5atwS",
        "outputId": "a8a3d334-0a1f-4e46-e4f3-07e366b61851"
      },
      "source": [
        "voting_clf.score(X_val, y_val)"
      ],
      "execution_count": 7,
      "outputs": [
        {
          "output_type": "execute_result",
          "data": {
            "text/plain": [
              "0.9695"
            ]
          },
          "metadata": {
            "tags": []
          },
          "execution_count": 7
        }
      ]
    },
    {
      "cell_type": "code",
      "metadata": {
        "colab": {
          "base_uri": "https://localhost:8080/"
        },
        "id": "BXSO8aHqcyLh",
        "outputId": "05f7f27e-5291-4e9e-99ad-5d13c0f61733"
      },
      "source": [
        "[estimator.score(X_val, y_val) for estimator in voting_clf.estimators_]"
      ],
      "execution_count": 8,
      "outputs": [
        {
          "output_type": "execute_result",
          "data": {
            "text/plain": [
              "[0.9692, 0.9715, 0.872]"
            ]
          },
          "metadata": {
            "tags": []
          },
          "execution_count": 8
        }
      ]
    },
    {
      "cell_type": "code",
      "metadata": {
        "colab": {
          "base_uri": "https://localhost:8080/"
        },
        "id": "fgMWRnuVc7gD",
        "outputId": "ab9b2d88-fbcd-4acb-b709-1289e2d61fcf"
      },
      "source": [
        "voting_clf.estimators_"
      ],
      "execution_count": 9,
      "outputs": [
        {
          "output_type": "execute_result",
          "data": {
            "text/plain": [
              "[RandomForestClassifier(bootstrap=True, ccp_alpha=0.0, class_weight=None,\n",
              "                        criterion='gini', max_depth=None, max_features='auto',\n",
              "                        max_leaf_nodes=None, max_samples=None,\n",
              "                        min_impurity_decrease=0.0, min_impurity_split=None,\n",
              "                        min_samples_leaf=1, min_samples_split=2,\n",
              "                        min_weight_fraction_leaf=0.0, n_estimators=100,\n",
              "                        n_jobs=None, oob_score=False, random_state=42, verbose=0,\n",
              "                        warm_start=False),\n",
              " ExtraTreesClassifier(bootstrap=False, ccp_alpha=0.0, class_weight=None,\n",
              "                      criterion='gini', max_depth=None, max_features='auto',\n",
              "                      max_leaf_nodes=None, max_samples=None,\n",
              "                      min_impurity_decrease=0.0, min_impurity_split=None,\n",
              "                      min_samples_leaf=1, min_samples_split=2,\n",
              "                      min_weight_fraction_leaf=0.0, n_estimators=100,\n",
              "                      n_jobs=None, oob_score=False, random_state=42, verbose=0,\n",
              "                      warm_start=False),\n",
              " LinearSVC(C=1.0, class_weight=None, dual=True, fit_intercept=True,\n",
              "           intercept_scaling=1, loss='squared_hinge', max_iter=100,\n",
              "           multi_class='ovr', penalty='l2', random_state=42, tol=0.0001,\n",
              "           verbose=0)]"
            ]
          },
          "metadata": {
            "tags": []
          },
          "execution_count": 9
        }
      ]
    },
    {
      "cell_type": "code",
      "metadata": {
        "colab": {
          "base_uri": "https://localhost:8080/"
        },
        "id": "Fj0E39YBeW3E",
        "outputId": "ca40941f-cc3d-4eed-8fd6-83b9e47cd19f"
      },
      "source": [
        "del voting_clf.estimators_[2]\r\n",
        "voting_clf.score(X_val, y_val)"
      ],
      "execution_count": 10,
      "outputs": [
        {
          "output_type": "execute_result",
          "data": {
            "text/plain": [
              "0.9713"
            ]
          },
          "metadata": {
            "tags": []
          },
          "execution_count": 10
        }
      ]
    },
    {
      "cell_type": "code",
      "metadata": {
        "colab": {
          "base_uri": "https://localhost:8080/"
        },
        "id": "vgTjoYBved4B",
        "outputId": "916d5778-19e3-4313-c649-92fcf59860b9"
      },
      "source": [
        "voting_clf.voting = \"soft\"\r\n",
        "voting_clf.score(X_val, y_val)"
      ],
      "execution_count": 11,
      "outputs": [
        {
          "output_type": "execute_result",
          "data": {
            "text/plain": [
              "0.9719"
            ]
          },
          "metadata": {
            "tags": []
          },
          "execution_count": 11
        }
      ]
    },
    {
      "cell_type": "code",
      "metadata": {
        "colab": {
          "base_uri": "https://localhost:8080/"
        },
        "id": "_wUxNx_sehKh",
        "outputId": "afee7264-5d08-4c56-fcfb-809aec56aa4f"
      },
      "source": [
        "voting_score = voting_clf.score(X_test, y_test)\r\n",
        "voting_score"
      ],
      "execution_count": 12,
      "outputs": [
        {
          "output_type": "execute_result",
          "data": {
            "text/plain": [
              "0.9681"
            ]
          },
          "metadata": {
            "tags": []
          },
          "execution_count": 12
        }
      ]
    },
    {
      "cell_type": "markdown",
      "metadata": {
        "id": "bPGfOa7XfFQr"
      },
      "source": [
        "## Boosting"
      ]
    },
    {
      "cell_type": "code",
      "metadata": {
        "colab": {
          "base_uri": "https://localhost:8080/"
        },
        "id": "T_Nf72VLerqa",
        "outputId": "a6489b79-3fb4-43d0-f0f6-e72c8a071a8a"
      },
      "source": [
        "from sklearn.ensemble import AdaBoostClassifier\r\n",
        "from sklearn.tree import DecisionTreeClassifier\r\n",
        "\r\n",
        "ada_clf = AdaBoostClassifier(\r\n",
        "    DecisionTreeClassifier(max_depth=1), n_estimators=200,\r\n",
        "    algorithm=\"SAMME.R\", learning_rate=0.5, random_state=42)\r\n",
        "ada_clf.fit(X_train, y_train)"
      ],
      "execution_count": 13,
      "outputs": [
        {
          "output_type": "execute_result",
          "data": {
            "text/plain": [
              "AdaBoostClassifier(algorithm='SAMME.R',\n",
              "                   base_estimator=DecisionTreeClassifier(ccp_alpha=0.0,\n",
              "                                                         class_weight=None,\n",
              "                                                         criterion='gini',\n",
              "                                                         max_depth=1,\n",
              "                                                         max_features=None,\n",
              "                                                         max_leaf_nodes=None,\n",
              "                                                         min_impurity_decrease=0.0,\n",
              "                                                         min_impurity_split=None,\n",
              "                                                         min_samples_leaf=1,\n",
              "                                                         min_samples_split=2,\n",
              "                                                         min_weight_fraction_leaf=0.0,\n",
              "                                                         presort='deprecated',\n",
              "                                                         random_state=None,\n",
              "                                                         splitter='best'),\n",
              "                   learning_rate=0.5, n_estimators=200, random_state=42)"
            ]
          },
          "metadata": {
            "tags": []
          },
          "execution_count": 13
        }
      ]
    },
    {
      "cell_type": "code",
      "metadata": {
        "colab": {
          "base_uri": "https://localhost:8080/"
        },
        "id": "_TQWtItLfRB4",
        "outputId": "749aab5c-361f-4dbd-a558-59a0061ee1bb"
      },
      "source": [
        "ada_clf.score(X_test, y_test)"
      ],
      "execution_count": 14,
      "outputs": [
        {
          "output_type": "execute_result",
          "data": {
            "text/plain": [
              "0.7851"
            ]
          },
          "metadata": {
            "tags": []
          },
          "execution_count": 14
        }
      ]
    },
    {
      "cell_type": "markdown",
      "metadata": {
        "id": "7PdXYuwJhltN"
      },
      "source": [
        "## Gradient Boosting"
      ]
    },
    {
      "cell_type": "code",
      "metadata": {
        "colab": {
          "base_uri": "https://localhost:8080/"
        },
        "id": "Ma_JrDyOhHnB",
        "outputId": "5fb68857-dbdc-4837-feaf-a2e0acd12aad"
      },
      "source": [
        "from sklearn.ensemble import GradientBoostingClassifier\r\n",
        "\r\n",
        "gbrt = GradientBoostingClassifier(max_depth=2, n_estimators=3, learning_rate=1.0, random_state=42)\r\n",
        "gbrt.fit(X_train, y_train)"
      ],
      "execution_count": 15,
      "outputs": [
        {
          "output_type": "execute_result",
          "data": {
            "text/plain": [
              "GradientBoostingClassifier(ccp_alpha=0.0, criterion='friedman_mse', init=None,\n",
              "                           learning_rate=1.0, loss='deviance', max_depth=2,\n",
              "                           max_features=None, max_leaf_nodes=None,\n",
              "                           min_impurity_decrease=0.0, min_impurity_split=None,\n",
              "                           min_samples_leaf=1, min_samples_split=2,\n",
              "                           min_weight_fraction_leaf=0.0, n_estimators=3,\n",
              "                           n_iter_no_change=None, presort='deprecated',\n",
              "                           random_state=42, subsample=1.0, tol=0.0001,\n",
              "                           validation_fraction=0.1, verbose=0,\n",
              "                           warm_start=False)"
            ]
          },
          "metadata": {
            "tags": []
          },
          "execution_count": 15
        }
      ]
    },
    {
      "cell_type": "code",
      "metadata": {
        "colab": {
          "base_uri": "https://localhost:8080/"
        },
        "id": "lx5Z1tOahd6i",
        "outputId": "aa1f58e3-ed57-41b8-a0f3-23e7d31639b9"
      },
      "source": [
        "gbrt.score(X_test, y_test)"
      ],
      "execution_count": 16,
      "outputs": [
        {
          "output_type": "execute_result",
          "data": {
            "text/plain": [
              "0.7186"
            ]
          },
          "metadata": {
            "tags": []
          },
          "execution_count": 16
        }
      ]
    },
    {
      "cell_type": "markdown",
      "metadata": {
        "id": "cWV_tzxxi00b"
      },
      "source": [
        "## 참고1. 그레이디언트 부스티드 회귀 트리(GBRT)"
      ]
    },
    {
      "cell_type": "code",
      "metadata": {
        "id": "_taUE9wYhth6"
      },
      "source": [
        "import numpy as np\r\n",
        "\r\n",
        "np.random.seed(42)\r\n",
        "X = np.random.rand(100, 1) - 0.5\r\n",
        "y = 3*X[:, 0]**2 + 0.05 * np.random.randn(100)"
      ],
      "execution_count": 17,
      "outputs": []
    },
    {
      "cell_type": "code",
      "metadata": {
        "colab": {
          "base_uri": "https://localhost:8080/",
          "height": 269
        },
        "id": "FcITXnkijDp5",
        "outputId": "f6eb3dc1-00d7-4b52-e3b2-19510e665ff9"
      },
      "source": [
        "import matplotlib.pyplot as plt\r\n",
        "\r\n",
        "plt.scatter(X, y)\r\n",
        "plt.show()"
      ],
      "execution_count": 18,
      "outputs": [
        {
          "output_type": "display_data",
          "data": {
            "image/png": "[encoded data removed]",
            "text/plain": [
              "<Figure size 432x288 with 1 Axes>"
            ]
          },
          "metadata": {
            "tags": [],
            "needs_background": "light"
          }
        }
      ]
    },
    {
      "cell_type": "code",
      "metadata": {
        "colab": {
          "base_uri": "https://localhost:8080/"
        },
        "id": "GgBAW76tjLzy",
        "outputId": "58238921-6a58-4ebb-f17b-94515b7bbc23"
      },
      "source": [
        "from sklearn.tree import DecisionTreeRegressor\r\n",
        "\r\n",
        "tree_reg1 = DecisionTreeRegressor(max_depth=2, random_state=42)\r\n",
        "tree_reg1.fit(X, y)"
      ],
      "execution_count": 19,
      "outputs": [
        {
          "output_type": "execute_result",
          "data": {
            "text/plain": [
              "DecisionTreeRegressor(ccp_alpha=0.0, criterion='mse', max_depth=2,\n",
              "                      max_features=None, max_leaf_nodes=None,\n",
              "                      min_impurity_decrease=0.0, min_impurity_split=None,\n",
              "                      min_samples_leaf=1, min_samples_split=2,\n",
              "                      min_weight_fraction_leaf=0.0, presort='deprecated',\n",
              "                      random_state=42, splitter='best')"
            ]
          },
          "metadata": {
            "tags": []
          },
          "execution_count": 19
        }
      ]
    },
    {
      "cell_type": "code",
      "metadata": {
        "colab": {
          "base_uri": "https://localhost:8080/"
        },
        "id": "19dw00ZpjSOS",
        "outputId": "df565b1e-0497-4c56-f794-a2773cdc284f"
      },
      "source": [
        "y2 = y - tree_reg1.predict(X)\r\n",
        "tree_reg2 = DecisionTreeRegressor(max_depth=2, random_state=42)\r\n",
        "tree_reg2.fit(X, y2)"
      ],
      "execution_count": 20,
      "outputs": [
        {
          "output_type": "execute_result",
          "data": {
            "text/plain": [
              "DecisionTreeRegressor(ccp_alpha=0.0, criterion='mse', max_depth=2,\n",
              "                      max_features=None, max_leaf_nodes=None,\n",
              "                      min_impurity_decrease=0.0, min_impurity_split=None,\n",
              "                      min_samples_leaf=1, min_samples_split=2,\n",
              "                      min_weight_fraction_leaf=0.0, presort='deprecated',\n",
              "                      random_state=42, splitter='best')"
            ]
          },
          "metadata": {
            "tags": []
          },
          "execution_count": 20
        }
      ]
    },
    {
      "cell_type": "code",
      "metadata": {
        "colab": {
          "base_uri": "https://localhost:8080/"
        },
        "id": "q4wRRbiNjVoa",
        "outputId": "ae2426f7-c874-4aba-904d-1fda5e5e6a55"
      },
      "source": [
        "y3 = y2 - tree_reg2.predict(X)\r\n",
        "tree_reg3 = DecisionTreeRegressor(max_depth=2, random_state=42)\r\n",
        "tree_reg3.fit(X, y3)"
      ],
      "execution_count": 21,
      "outputs": [
        {
          "output_type": "execute_result",
          "data": {
            "text/plain": [
              "DecisionTreeRegressor(ccp_alpha=0.0, criterion='mse', max_depth=2,\n",
              "                      max_features=None, max_leaf_nodes=None,\n",
              "                      min_impurity_decrease=0.0, min_impurity_split=None,\n",
              "                      min_samples_leaf=1, min_samples_split=2,\n",
              "                      min_weight_fraction_leaf=0.0, presort='deprecated',\n",
              "                      random_state=42, splitter='best')"
            ]
          },
          "metadata": {
            "tags": []
          },
          "execution_count": 21
        }
      ]
    },
    {
      "cell_type": "code",
      "metadata": {
        "id": "3gPg1waajZ84"
      },
      "source": [
        "X_new = np.array([[0.8]])\r\n",
        "y_pred = sum(tree.predict(X_new) for tree in (tree_reg1, tree_reg2, tree_reg3))"
      ],
      "execution_count": 22,
      "outputs": []
    },
    {
      "cell_type": "code",
      "metadata": {
        "id": "3lHsb5cJjfwi"
      },
      "source": [
        "def plot_predictions(regressors, X, y, axes, label=None, style=\"r-\", data_style=\"b.\", data_label=None):\r\n",
        "    x1 = np.linspace(axes[0], axes[1], 500)\r\n",
        "    y_pred = sum(regressor.predict(x1.reshape(-1, 1)) for regressor in regressors)\r\n",
        "    plt.plot(X[:, 0], y, data_style, label=data_label)\r\n",
        "    plt.plot(x1, y_pred, style, linewidth=2, label=label)\r\n",
        "    if label or data_label:\r\n",
        "        plt.legend(loc=\"upper center\", fontsize=16)\r\n",
        "    plt.axis(axes)"
      ],
      "execution_count": 23,
      "outputs": []
    },
    {
      "cell_type": "code",
      "metadata": {
        "colab": {
          "base_uri": "https://localhost:8080/",
          "height": 684
        },
        "id": "bAGdxwuLji7j",
        "outputId": "eb77bfb3-84ca-4e2c-f6a9-fdfeab612cdc"
      },
      "source": [
        "plt.figure(figsize=(11,11))\r\n",
        "\r\n",
        "plt.subplot(321)\r\n",
        "plot_predictions([tree_reg1], X, y, axes=[-0.5, 0.5, -0.1, 0.8], label=\"$h_1(x_1)$\", style=\"g-\", data_label=\"Training set\")\r\n",
        "plt.ylabel(\"$y$\", fontsize=16, rotation=0)\r\n",
        "plt.title(\"Residuals and tree predictions\", fontsize=16)\r\n",
        "\r\n",
        "plt.subplot(322)\r\n",
        "plot_predictions([tree_reg1], X, y, axes=[-0.5, 0.5, -0.1, 0.8], label=\"$h(x_1) = h_1(x_1)$\", data_label=\"Training set\")\r\n",
        "plt.ylabel(\"$y$\", fontsize=16, rotation=0)\r\n",
        "plt.title(\"Ensemble predictions\", fontsize=16)\r\n",
        "\r\n",
        "plt.subplot(323)\r\n",
        "plot_predictions([tree_reg2], X, y2, axes=[-0.5, 0.5, -0.5, 0.5], label=\"$h_2(x_1)$\", style=\"g-\", data_style=\"k+\", data_label=\"Residuals\")\r\n",
        "plt.ylabel(\"$y - h_1(x_1)$\", fontsize=16)\r\n",
        "\r\n",
        "plt.subplot(324)\r\n",
        "plot_predictions([tree_reg1, tree_reg2], X, y, axes=[-0.5, 0.5, -0.1, 0.8], label=\"$h(x_1) = h_1(x_1) + h_2(x_1)$\")\r\n",
        "plt.ylabel(\"$y$\", fontsize=16, rotation=0)\r\n",
        "\r\n",
        "plt.subplot(325)\r\n",
        "plot_predictions([tree_reg3], X, y3, axes=[-0.5, 0.5, -0.5, 0.5], label=\"$h_3(x_1)$\", style=\"g-\", data_style=\"k+\")\r\n",
        "plt.ylabel(\"$y - h_1(x_1) - h_2(x_1)$\", fontsize=16)\r\n",
        "plt.xlabel(\"$x_1$\", fontsize=16)\r\n",
        "\r\n",
        "plt.subplot(326)\r\n",
        "plot_predictions([tree_reg1, tree_reg2, tree_reg3], X, y, axes=[-0.5, 0.5, -0.1, 0.8], label=\"$h(x_1) = h_1(x_1) + h_2(x_1) + h_3(x_1)$\")\r\n",
        "plt.xlabel(\"$x_1$\", fontsize=16)\r\n",
        "plt.ylabel(\"$y$\", fontsize=16, rotation=0)\r\n",
        "\r\n",
        "plt.show()"
      ],
      "execution_count": 24,
      "outputs": [
        {
          "output_type": "display_data",
          "data": {
            "image/png": "[encoded data removed]",
            "text/plain": [
              "<Figure size 792x792 with 6 Axes>"
            ]
          },
          "metadata": {
            "tags": [],
            "needs_background": "light"
          }
        }
      ]
    },
    {
      "cell_type": "markdown",
      "metadata": {
        "id": "zVtIIs93kX6T"
      },
      "source": [
        "## 조기 종료"
      ]
    },
    {
      "cell_type": "code",
      "metadata": {
        "colab": {
          "base_uri": "https://localhost:8080/"
        },
        "id": "drgPAeI_jmRS",
        "outputId": "c9317ba2-b0eb-490b-8113-1eda7d04eadd"
      },
      "source": [
        "import numpy as np\r\n",
        "from sklearn.model_selection import train_test_split\r\n",
        "from sklearn.metrics import mean_squared_error\r\n",
        "from sklearn.ensemble import GradientBoostingRegressor\r\n",
        "\r\n",
        "\r\n",
        "X_train, X_val, y_train, y_val = train_test_split(X, y, random_state=49)\r\n",
        "\r\n",
        "gbrt = GradientBoostingRegressor(max_depth=2, n_estimators=120, random_state=42)\r\n",
        "gbrt.fit(X_train, y_train)\r\n",
        "\r\n",
        "errors = [mean_squared_error(y_val, y_pred)\r\n",
        "          for y_pred in gbrt.staged_predict(X_val)]\r\n",
        "bst_n_estimators = np.argmin(errors) + 1\r\n",
        "\r\n",
        "gbrt_best = GradientBoostingRegressor(max_depth=2, n_estimators=bst_n_estimators, random_state=42)\r\n",
        "gbrt_best.fit(X_train, y_train)"
      ],
      "execution_count": 25,
      "outputs": [
        {
          "output_type": "execute_result",
          "data": {
            "text/plain": [
              "GradientBoostingRegressor(alpha=0.9, ccp_alpha=0.0, criterion='friedman_mse',\n",
              "                          init=None, learning_rate=0.1, loss='ls', max_depth=2,\n",
              "                          max_features=None, max_leaf_nodes=None,\n",
              "                          min_impurity_decrease=0.0, min_impurity_split=None,\n",
              "                          min_samples_leaf=1, min_samples_split=2,\n",
              "                          min_weight_fraction_leaf=0.0, n_estimators=56,\n",
              "                          n_iter_no_change=None, presort='deprecated',\n",
              "                          random_state=42, subsample=1.0, tol=0.0001,\n",
              "                          validation_fraction=0.1, verbose=0, warm_start=False)"
            ]
          },
          "metadata": {
            "tags": []
          },
          "execution_count": 25
        }
      ]
    },
    {
      "cell_type": "code",
      "metadata": {
        "colab": {
          "base_uri": "https://localhost:8080/"
        },
        "id": "xbfOBqpYlGTi",
        "outputId": "b8f4f9b8-c58f-4545-d425-b92087eb6fce"
      },
      "source": [
        "min_error = np.min(errors)\r\n",
        "min_error"
      ],
      "execution_count": 26,
      "outputs": [
        {
          "output_type": "execute_result",
          "data": {
            "text/plain": [
              "0.002712853325235463"
            ]
          },
          "metadata": {
            "tags": []
          },
          "execution_count": 26
        }
      ]
    },
    {
      "cell_type": "code",
      "metadata": {
        "colab": {
          "base_uri": "https://localhost:8080/",
          "height": 302
        },
        "id": "MKMMWMYHlRSA",
        "outputId": "07507191-4e16-4ff3-ffbe-e19276745190"
      },
      "source": [
        "\r\n",
        "plt.figure(figsize=(10, 4))\r\n",
        "\r\n",
        "plt.subplot(121)\r\n",
        "plt.plot(errors, \"b.-\")\r\n",
        "plt.plot([bst_n_estimators, bst_n_estimators], [0, min_error], \"k--\")\r\n",
        "plt.plot([0, 120], [min_error, min_error], \"k--\")\r\n",
        "plt.plot(bst_n_estimators, min_error, \"ko\")\r\n",
        "plt.text(bst_n_estimators, min_error*1.2, \"Minimum\", ha=\"center\", fontsize=14)\r\n",
        "plt.axis([0, 120, 0, 0.01])\r\n",
        "plt.xlabel(\"Number of trees\")\r\n",
        "plt.ylabel(\"Error\", fontsize=16)\r\n",
        "plt.title(\"Validation error\", fontsize=14)\r\n",
        "\r\n",
        "plt.subplot(122)\r\n",
        "plot_predictions([gbrt_best], X, y, axes=[-0.5, 0.5, -0.1, 0.8])\r\n",
        "plt.title(\"Best model (%d trees)\" % bst_n_estimators, fontsize=14)\r\n",
        "plt.ylabel(\"$y$\", fontsize=16, rotation=0)\r\n",
        "plt.xlabel(\"$x_1$\", fontsize=16)\r\n",
        "\r\n",
        "plt.show()"
      ],
      "execution_count": 27,
      "outputs": [
        {
          "output_type": "display_data",
          "data": {
            "image/png": "[encoded data removed]",
            "text/plain": [
              "<Figure size 720x288 with 2 Axes>"
            ]
          },
          "metadata": {
            "tags": [],
            "needs_background": "light"
          }
        }
      ]
    },
    {
      "cell_type": "code",
      "metadata": {
        "id": "V5Fmbj8FlVdh"
      },
      "source": [
        "gbrt = GradientBoostingRegressor(max_depth=2, warm_start=True, random_state=42)\r\n",
        "\r\n",
        "min_val_error = float(\"inf\")\r\n",
        "error_going_up = 0\r\n",
        "for n_estimators in range(1, 120):\r\n",
        "    gbrt.n_estimators = n_estimators\r\n",
        "    gbrt.fit(X_train, y_train)\r\n",
        "    y_pred = gbrt.predict(X_val)\r\n",
        "    val_error = mean_squared_error(y_val, y_pred)\r\n",
        "    if val_error < min_val_error:\r\n",
        "        min_val_error = val_error\r\n",
        "        error_going_up = 0\r\n",
        "    else:\r\n",
        "        error_going_up += 1\r\n",
        "        if error_going_up == 5:\r\n",
        "            break  # early stopping"
      ],
      "execution_count": 28,
      "outputs": []
    },
    {
      "cell_type": "code",
      "metadata": {
        "colab": {
          "base_uri": "https://localhost:8080/"
        },
        "id": "qQKY_EzKmF-r",
        "outputId": "ca9c63d7-5bd4-46e5-f691-489ed3a91674"
      },
      "source": [
        "gbrt.n_estimators, min_val_error"
      ],
      "execution_count": 29,
      "outputs": [
        {
          "output_type": "execute_result",
          "data": {
            "text/plain": [
              "(61, 0.002712853325235463)"
            ]
          },
          "metadata": {
            "tags": []
          },
          "execution_count": 29
        }
      ]
    },
    {
      "cell_type": "markdown",
      "metadata": {
        "id": "nBBG-z4amUA2"
      },
      "source": [
        "## XGBoost"
      ]
    },
    {
      "cell_type": "code",
      "metadata": {
        "id": "wawpphtimLB4"
      },
      "source": [
        "try:\r\n",
        "    import xgboost\r\n",
        "except ImportError as ex:\r\n",
        "    print(\"에러: xgboost 라이브러리 설치되지 않았습니다.\")\r\n",
        "    xgboost = None"
      ],
      "execution_count": 30,
      "outputs": []
    },
    {
      "cell_type": "code",
      "metadata": {
        "colab": {
          "base_uri": "https://localhost:8080/"
        },
        "id": "5A9_EfBSmYKa",
        "outputId": "7d5074d0-9124-4fcf-9d5d-2f17cefc6f6e"
      },
      "source": [
        "if xgboost is not None:\r\n",
        "    xgb_reg = xgboost.XGBRegressor(random_state=42)\r\n",
        "    xgb_reg.fit(X_train, y_train)\r\n",
        "    y_pred = xgb_reg.predict(X_val)\r\n",
        "    val_error = mean_squared_error(y_val, y_pred)\r\n",
        "    print(\"Validation MSE:\", val_error)          "
      ],
      "execution_count": 31,
      "outputs": [
        {
          "output_type": "stream",
          "text": [
            "[07:39:36] WARNING: /workspace/src/objective/regression_obj.cu:152: reg:linear is now deprecated in favor of reg:squarederror.\n",
            "Validation MSE: 0.0028512559726563943\n"
          ],
          "name": "stdout"
        }
      ]
    },
    {
      "cell_type": "code",
      "metadata": {
        "colab": {
          "base_uri": "https://localhost:8080/"
        },
        "id": "nCHMGl8pmcsK",
        "outputId": "3f81ca04-e658-4cda-e070-641725016be2"
      },
      "source": [
        "if xgboost is not None:  \r\n",
        "    xgb_reg.fit(X_train, y_train,\r\n",
        "                eval_set=[(X_val, y_val)], early_stopping_rounds=2)\r\n",
        "    y_pred = xgb_reg.predict(X_val)\r\n",
        "    val_error = mean_squared_error(y_val, y_pred)\r\n",
        "    print(\"Validation MSE:\", val_error)          "
      ],
      "execution_count": 32,
      "outputs": [
        {
          "output_type": "stream",
          "text": [
            "[07:39:36] WARNING: /workspace/src/objective/regression_obj.cu:152: reg:linear is now deprecated in favor of reg:squarederror.\n",
            "[0]\tvalidation_0-rmse:0.286719\n",
            "Will train until validation_0-rmse hasn't improved in 2 rounds.\n",
            "[1]\tvalidation_0-rmse:0.258221\n",
            "[2]\tvalidation_0-rmse:0.232634\n",
            "[3]\tvalidation_0-rmse:0.210526\n",
            "[4]\tvalidation_0-rmse:0.190232\n",
            "[5]\tvalidation_0-rmse:0.172196\n",
            "[6]\tvalidation_0-rmse:0.156394\n",
            "[7]\tvalidation_0-rmse:0.142241\n",
            "[8]\tvalidation_0-rmse:0.129789\n",
            "[9]\tvalidation_0-rmse:0.118752\n",
            "[10]\tvalidation_0-rmse:0.108388\n",
            "[11]\tvalidation_0-rmse:0.100155\n",
            "[12]\tvalidation_0-rmse:0.09208\n",
            "[13]\tvalidation_0-rmse:0.084791\n",
            "[14]\tvalidation_0-rmse:0.078699\n",
            "[15]\tvalidation_0-rmse:0.073248\n",
            "[16]\tvalidation_0-rmse:0.069391\n",
            "[17]\tvalidation_0-rmse:0.066277\n",
            "[18]\tvalidation_0-rmse:0.063458\n",
            "[19]\tvalidation_0-rmse:0.060326\n",
            "[20]\tvalidation_0-rmse:0.0578\n",
            "[21]\tvalidation_0-rmse:0.055643\n",
            "[22]\tvalidation_0-rmse:0.053943\n",
            "[23]\tvalidation_0-rmse:0.053138\n",
            "[24]\tvalidation_0-rmse:0.052415\n",
            "[25]\tvalidation_0-rmse:0.051821\n",
            "[26]\tvalidation_0-rmse:0.051226\n",
            "[27]\tvalidation_0-rmse:0.051135\n",
            "[28]\tvalidation_0-rmse:0.05091\n",
            "[29]\tvalidation_0-rmse:0.050893\n",
            "[30]\tvalidation_0-rmse:0.050725\n",
            "[31]\tvalidation_0-rmse:0.050471\n",
            "[32]\tvalidation_0-rmse:0.050285\n",
            "[33]\tvalidation_0-rmse:0.050492\n",
            "[34]\tvalidation_0-rmse:0.050348\n",
            "Stopping. Best iteration:\n",
            "[32]\tvalidation_0-rmse:0.050285\n",
            "\n",
            "Validation MSE: 0.002528626115371327\n"
          ],
          "name": "stdout"
        }
      ]
    },
    {
      "cell_type": "markdown",
      "metadata": {
        "id": "OfFWiJ42o71V"
      },
      "source": [
        "## 스태킹 앙상블"
      ]
    },
    {
      "cell_type": "code",
      "metadata": {
        "id": "sNd-mPvbmncy"
      },
      "source": [
        "from sklearn.model_selection import train_test_split\r\n",
        "\r\n",
        "X_train_val, X_test, y_train_val, y_test = train_test_split(\r\n",
        "    mnist.data, mnist.target, test_size=10000, random_state=42)\r\n",
        "X_train, X_val, y_train, y_val = train_test_split(\r\n",
        "    X_train_val, y_train_val, test_size=10000, random_state=42)\r\n",
        "\r\n",
        "X_val_predictions = np.empty((len(X_val), len(estimators)), dtype=np.float32)\r\n",
        "\r\n",
        "for index, estimator in enumerate(estimators):\r\n",
        "    X_val_predictions[:, index] = estimator.predict(X_val)"
      ],
      "execution_count": 33,
      "outputs": []
    },
    {
      "cell_type": "code",
      "metadata": {
        "colab": {
          "base_uri": "https://localhost:8080/"
        },
        "id": "T7GnPXLApBli",
        "outputId": "e3a9dc7c-034c-4f1e-81cf-1f477ddc5d6c"
      },
      "source": [
        "X_val_predictions\r\n"
      ],
      "execution_count": 34,
      "outputs": [
        {
          "output_type": "execute_result",
          "data": {
            "text/plain": [
              "array([[5., 5., 5.],\n",
              "       [8., 8., 8.],\n",
              "       [2., 2., 2.],\n",
              "       ...,\n",
              "       [7., 7., 7.],\n",
              "       [6., 6., 6.],\n",
              "       [7., 7., 7.]], dtype=float32)"
            ]
          },
          "metadata": {
            "tags": []
          },
          "execution_count": 34
        }
      ]
    },
    {
      "cell_type": "code",
      "metadata": {
        "colab": {
          "base_uri": "https://localhost:8080/"
        },
        "id": "vzpsyWBApS7p",
        "outputId": "3be3fc73-3235-4f55-e59c-0635f88d8b69"
      },
      "source": [
        "rnd_forest_blender = RandomForestClassifier(n_estimators=200, oob_score=True, random_state=42)\r\n",
        "rnd_forest_blender.fit(X_val_predictions, y_val)"
      ],
      "execution_count": 35,
      "outputs": [
        {
          "output_type": "execute_result",
          "data": {
            "text/plain": [
              "RandomForestClassifier(bootstrap=True, ccp_alpha=0.0, class_weight=None,\n",
              "                       criterion='gini', max_depth=None, max_features='auto',\n",
              "                       max_leaf_nodes=None, max_samples=None,\n",
              "                       min_impurity_decrease=0.0, min_impurity_split=None,\n",
              "                       min_samples_leaf=1, min_samples_split=2,\n",
              "                       min_weight_fraction_leaf=0.0, n_estimators=200,\n",
              "                       n_jobs=None, oob_score=True, random_state=42, verbose=0,\n",
              "                       warm_start=False)"
            ]
          },
          "metadata": {
            "tags": []
          },
          "execution_count": 35
        }
      ]
    },
    {
      "cell_type": "code",
      "metadata": {
        "colab": {
          "base_uri": "https://localhost:8080/"
        },
        "id": "AaqpCAX9pWfo",
        "outputId": "be96c8a8-a14a-49a5-e6a7-8afb5a6c6eb8"
      },
      "source": [
        "rnd_forest_blender.oob_score_\r\n"
      ],
      "execution_count": 36,
      "outputs": [
        {
          "output_type": "execute_result",
          "data": {
            "text/plain": [
              "0.9695"
            ]
          },
          "metadata": {
            "tags": []
          },
          "execution_count": 36
        }
      ]
    },
    {
      "cell_type": "code",
      "metadata": {
        "id": "RXniA08WpYcB"
      },
      "source": [
        "X_test_predictions = np.empty((len(X_test), len(estimators)), dtype=np.float32)\r\n",
        "\r\n",
        "for index, estimator in enumerate(estimators):\r\n",
        "    X_test_predictions[:, index] = estimator.predict(X_test)"
      ],
      "execution_count": 37,
      "outputs": []
    },
    {
      "cell_type": "code",
      "metadata": {
        "colab": {
          "base_uri": "https://localhost:8080/"
        },
        "id": "g6p_nzQqphXH",
        "outputId": "ccdd834e-6057-4bdf-e0b0-21a9976358f1"
      },
      "source": [
        "rnd_forest_blender.score(X_test_predictions, y_test)"
      ],
      "execution_count": 38,
      "outputs": [
        {
          "output_type": "execute_result",
          "data": {
            "text/plain": [
              "0.9648"
            ]
          },
          "metadata": {
            "tags": []
          },
          "execution_count": 38
        }
      ]
    },
    {
      "cell_type": "code",
      "metadata": {
        "id": "2J3S_4aDwZ9X"
      },
      "source": [
        ""
      ],
      "execution_count": null,
      "outputs": []
    }
  ]
}