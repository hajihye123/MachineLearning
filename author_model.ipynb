{
  "nbformat": 4,
  "nbformat_minor": 0,
  "metadata": {
    "colab": {
      "name": "author_model.ipynb",
      "provenance": [],
      "collapsed_sections": [],
      "include_colab_link": true
    },
    "kernelspec": {
      "name": "python3",
      "display_name": "Python 3"
    },
    "accelerator": "GPU"
  },
  "cells": [
    {
      "cell_type": "markdown",
      "metadata": {
        "id": "view-in-github",
        "colab_type": "text"
      },
      "source": [
        "<a href=\"https://colab.research.google.com/github/hajihye123/MachineLearning_Lecture/blob/main/author_model.ipynb\" target=\"_parent\"><img src=\"https://colab.research.google.com/assets/colab-badge.svg\" alt=\"Open In Colab\"/></a>"
      ]
    },
    {
      "cell_type": "code",
      "metadata": {
        "colab": {
          "base_uri": "https://localhost:8080/",
          "height": 227
        },
        "id": "csoeOE2kIGBX",
        "outputId": "98ea73c6-ad32-4757-b098-587f29e8653e"
      },
      "source": [
        "import pandas as pd\r\n",
        "\r\n",
        "df = pd.read_csv('/content/train.csv', index_col='index')\r\n",
        "df.head()"
      ],
      "execution_count": null,
      "outputs": [
        {
          "output_type": "execute_result",
          "data": {
            "text/html": [
              "<div>\n",
              "<style scoped>\n",
              "    .dataframe tbody tr th:only-of-type {\n",
              "        vertical-align: middle;\n",
              "    }\n",
              "\n",
              "    .dataframe tbody tr th {\n",
              "        vertical-align: top;\n",
              "    }\n",
              "\n",
              "    .dataframe thead th {\n",
              "        text-align: right;\n",
              "    }\n",
              "</style>\n",
              "<table border=\"1\" class=\"dataframe\">\n",
              "  <thead>\n",
              "    <tr style=\"text-align: right;\">\n",
              "      <th></th>\n",
              "      <th>text</th>\n",
              "      <th>author</th>\n",
              "    </tr>\n",
              "    <tr>\n",
              "      <th>index</th>\n",
              "      <th></th>\n",
              "      <th></th>\n",
              "    </tr>\n",
              "  </thead>\n",
              "  <tbody>\n",
              "    <tr>\n",
              "      <th>0</th>\n",
              "      <td>He was almost choking. There was so much, so m...</td>\n",
              "      <td>3</td>\n",
              "    </tr>\n",
              "    <tr>\n",
              "      <th>1</th>\n",
              "      <td>“Your sister asked for it, I suppose?”</td>\n",
              "      <td>2</td>\n",
              "    </tr>\n",
              "    <tr>\n",
              "      <th>2</th>\n",
              "      <td>She was engaged one day as she walked, in per...</td>\n",
              "      <td>1</td>\n",
              "    </tr>\n",
              "    <tr>\n",
              "      <th>3</th>\n",
              "      <td>The captain was in the porch, keeping himself ...</td>\n",
              "      <td>4</td>\n",
              "    </tr>\n",
              "    <tr>\n",
              "      <th>4</th>\n",
              "      <td>“Have mercy, gentlemen!” odin flung up his han...</td>\n",
              "      <td>3</td>\n",
              "    </tr>\n",
              "  </tbody>\n",
              "</table>\n",
              "</div>"
            ],
            "text/plain": [
              "                                                    text  author\n",
              "index                                                           \n",
              "0      He was almost choking. There was so much, so m...       3\n",
              "1                 “Your sister asked for it, I suppose?”       2\n",
              "2       She was engaged one day as she walked, in per...       1\n",
              "3      The captain was in the porch, keeping himself ...       4\n",
              "4      “Have mercy, gentlemen!” odin flung up his han...       3"
            ]
          },
          "metadata": {
            "tags": []
          },
          "execution_count": 4
        }
      ]
    },
    {
      "cell_type": "code",
      "metadata": {
        "id": "fd3LJrrJKFWf"
      },
      "source": [
        "from sklearn.model_selection import train_test_split\r\n",
        "\r\n",
        "X_train, X_valid, y_train, y_valid = train_test_split(df.text, df.author, test_size=0.2)"
      ],
      "execution_count": null,
      "outputs": []
    },
    {
      "cell_type": "code",
      "metadata": {
        "id": "AvUMi9eyKvYe"
      },
      "source": [
        "import tensorflow as tf\r\n",
        "\r\n",
        "train_ds = tf.data.Dataset.from_tensor_slices((X_train.values, y_train.values))\r\n",
        "valid_ds = tf.data.Dataset.from_tensor_slices((X_valid.values, y_valid.values))"
      ],
      "execution_count": null,
      "outputs": []
    },
    {
      "cell_type": "code",
      "metadata": {
        "colab": {
          "base_uri": "https://localhost:8080/"
        },
        "id": "J1JNgvd3ML--",
        "outputId": "84896578-f5dd-4ba3-df33-9a1a056006f1"
      },
      "source": [
        "for X_batch, y_batch in train_ds.batch(2).take(1):\r\n",
        "    for review, label in zip(X_batch.numpy(), y_batch.numpy()):\r\n",
        "        print(\"Text:\", review.decode(\"utf-8\")[:200], \"...\")\r\n",
        "        print(\"Author:\", label)\r\n",
        "        print()"
      ],
      "execution_count": null,
      "outputs": [
        {
          "output_type": "stream",
          "text": [
            "Text: “By thinking so you become worthy. Is she then of noble birth?” ...\n",
            "Author: 2\n",
            "\n",
            "Text: The door of the Doctor's room opened, and he came out with odin Darnay. He was so deadly pale--which had not been the case when they went in together--that no vestige of colour was to be seen in his f ...\n",
            "Author: 0\n",
            "\n"
          ],
          "name": "stdout"
        }
      ]
    },
    {
      "cell_type": "code",
      "metadata": {
        "colab": {
          "base_uri": "https://localhost:8080/"
        },
        "id": "fl_MVvUdMkH1",
        "outputId": "abf17e85-05fe-480b-faa3-549c7e65333e"
      },
      "source": [
        "def preprocess(X_batch, y_batch):\r\n",
        "    X_batch = tf.strings.substr(X_batch, 0, 300)\r\n",
        "    X_batch = tf.strings.regex_replace(X_batch, rb\"<br\\s*/?>\", b\" \")\r\n",
        "    X_batch = tf.strings.regex_replace(X_batch, b\"[^a-zA-Z']\", b\" \")\r\n",
        "    X_batch = tf.strings.split(X_batch)\r\n",
        "    return X_batch.to_tensor(default_value=b\"<pad>\"), y_batch\r\n",
        "\r\n",
        "preprocess(X_batch, y_batch)"
      ],
      "execution_count": null,
      "outputs": [
        {
          "output_type": "execute_result",
          "data": {
            "text/plain": [
              "(<tf.Tensor: shape=(2, 61), dtype=string, numpy=\n",
              " array([[b'By', b'thinking', b'so', b'you', b'become', b'worthy', b'Is',\n",
              "         b'she', b'then', b'of', b'noble', b'birth', b'<pad>', b'<pad>',\n",
              "         b'<pad>', b'<pad>', b'<pad>', b'<pad>', b'<pad>', b'<pad>',\n",
              "         b'<pad>', b'<pad>', b'<pad>', b'<pad>', b'<pad>', b'<pad>',\n",
              "         b'<pad>', b'<pad>', b'<pad>', b'<pad>', b'<pad>', b'<pad>',\n",
              "         b'<pad>', b'<pad>', b'<pad>', b'<pad>', b'<pad>', b'<pad>',\n",
              "         b'<pad>', b'<pad>', b'<pad>', b'<pad>', b'<pad>', b'<pad>',\n",
              "         b'<pad>', b'<pad>', b'<pad>', b'<pad>', b'<pad>', b'<pad>',\n",
              "         b'<pad>', b'<pad>', b'<pad>', b'<pad>', b'<pad>', b'<pad>',\n",
              "         b'<pad>', b'<pad>', b'<pad>', b'<pad>', b'<pad>'],\n",
              "        [b'The', b'door', b'of', b'the', b\"Doctor's\", b'room', b'opened',\n",
              "         b'and', b'he', b'came', b'out', b'with', b'odin', b'Darnay',\n",
              "         b'He', b'was', b'so', b'deadly', b'pale', b'which', b'had',\n",
              "         b'not', b'been', b'the', b'case', b'when', b'they', b'went',\n",
              "         b'in', b'together', b'that', b'no', b'vestige', b'of', b'colour',\n",
              "         b'was', b'to', b'be', b'seen', b'in', b'his', b'face', b'But',\n",
              "         b'in', b'the', b'composure', b'of', b'his', b'manner', b'he',\n",
              "         b'was', b'unaltered', b'except', b'that', b'to', b'the',\n",
              "         b'shrewd', b'glance', b'of', b'Mr', b'o']], dtype=object)>,\n",
              " <tf.Tensor: shape=(2,), dtype=int64, numpy=array([2, 0])>)"
            ]
          },
          "metadata": {
            "tags": []
          },
          "execution_count": 8
        }
      ]
    },
    {
      "cell_type": "code",
      "metadata": {
        "id": "6d83rkZ1Mout"
      },
      "source": [
        "from collections import Counter\r\n",
        "\r\n",
        "vocabulary = Counter()\r\n",
        "for X_batch, y_batch in train_ds.batch(32).map(preprocess):\r\n",
        "    for review in X_batch:\r\n",
        "        vocabulary.update(list(review.numpy()))"
      ],
      "execution_count": null,
      "outputs": []
    },
    {
      "cell_type": "code",
      "metadata": {
        "colab": {
          "base_uri": "https://localhost:8080/"
        },
        "id": "mAQi9VW_Mrvs",
        "outputId": "c64b0ce5-ec80-467f-fd50-a2ee6ecf6492"
      },
      "source": [
        "vocabulary.most_common()[:3]"
      ],
      "execution_count": null,
      "outputs": [
        {
          "output_type": "execute_result",
          "data": {
            "text/plain": [
              "[(b'<pad>', 1455578), (b'the', 50985), (b'I', 33226)]"
            ]
          },
          "metadata": {
            "tags": []
          },
          "execution_count": 10
        }
      ]
    },
    {
      "cell_type": "code",
      "metadata": {
        "colab": {
          "base_uri": "https://localhost:8080/"
        },
        "id": "4XBsiikEMwSO",
        "outputId": "061f5eb3-1474-48ca-94c9-e3c60bf2ea97"
      },
      "source": [
        "len(vocabulary)"
      ],
      "execution_count": null,
      "outputs": [
        {
          "output_type": "execute_result",
          "data": {
            "text/plain": [
              "32407"
            ]
          },
          "metadata": {
            "tags": []
          },
          "execution_count": 11
        }
      ]
    },
    {
      "cell_type": "code",
      "metadata": {
        "id": "L6GKNKG1MyNm"
      },
      "source": [
        "vocab_size = 10000\r\n",
        "truncated_vocabulary = [\r\n",
        "    word for word, count in vocabulary.most_common()[:vocab_size]]"
      ],
      "execution_count": null,
      "outputs": []
    },
    {
      "cell_type": "code",
      "metadata": {
        "colab": {
          "base_uri": "https://localhost:8080/"
        },
        "id": "Kq_OyITKM0a_",
        "outputId": "46c4a6d4-e8ef-472a-dc36-52522046db2e"
      },
      "source": [
        "word_to_id = {word: index for index, word in enumerate(truncated_vocabulary)}\r\n",
        "for word in b\"This movie was faaaaaantastic\".split():\r\n",
        "    print(word_to_id.get(word) or vocab_size)"
      ],
      "execution_count": null,
      "outputs": [
        {
          "output_type": "stream",
          "text": [
            "200\n",
            "10000\n",
            "10\n",
            "10000\n"
          ],
          "name": "stdout"
        }
      ]
    },
    {
      "cell_type": "code",
      "metadata": {
        "id": "shxPbufUM2IO"
      },
      "source": [
        "words = tf.constant(truncated_vocabulary)\r\n",
        "word_ids = tf.range(len(truncated_vocabulary), dtype=tf.int64)\r\n",
        "vocab_init = tf.lookup.KeyValueTensorInitializer(words, word_ids)\r\n",
        "num_oov_buckets = 1000\r\n",
        "table = tf.lookup.StaticVocabularyTable(vocab_init, num_oov_buckets)"
      ],
      "execution_count": null,
      "outputs": []
    },
    {
      "cell_type": "code",
      "metadata": {
        "id": "phciJBXWM4Hu"
      },
      "source": [
        "def encode_words(X_batch, y_batch):\r\n",
        "    return table.lookup(X_batch), y_batch\r\n",
        "\r\n",
        "train_set = train_ds.repeat().batch(32).map(preprocess)\r\n",
        "train_set = train_set.map(encode_words).prefetch(1)\r\n",
        "\r\n",
        "valid_set = valid_ds.batch(32).map(preprocess)\r\n",
        "valid_set = valid_set.map(encode_words).prefetch(1)"
      ],
      "execution_count": null,
      "outputs": []
    },
    {
      "cell_type": "code",
      "metadata": {
        "colab": {
          "base_uri": "https://localhost:8080/"
        },
        "id": "hRv0egcfM9xG",
        "outputId": "89c64587-fa73-4b4d-ed4f-16f2684ea183"
      },
      "source": [
        "for X_batch, y_batch in train_set.take(1):\r\n",
        "    print(X_batch)\r\n",
        "    print(y_batch)"
      ],
      "execution_count": null,
      "outputs": [
        {
          "output_type": "stream",
          "text": [
            "tf.Tensor(\n",
            "[[ 420  477   34 ...    0    0    0]\n",
            " [  36  166    5 ...  445    0    0]\n",
            " [ 168  227  930 ...    0    0    0]\n",
            " ...\n",
            " [   2   65    6 ...    0    0    0]\n",
            " [ 157 2633  185 ...    0    0    0]\n",
            " [  68   71  125 ...    0    0    0]], shape=(32, 63), dtype=int64)\n",
            "tf.Tensor([2 0 2 0 1 4 0 1 2 0 3 1 3 4 1 2 2 3 3 1 1 3 2 2 2 0 3 4 4 0 0 1], shape=(32,), dtype=int64)\n"
          ],
          "name": "stdout"
        }
      ]
    },
    {
      "cell_type": "code",
      "metadata": {
        "colab": {
          "base_uri": "https://localhost:8080/"
        },
        "id": "pT26G4fwM_q1",
        "outputId": "f6cc3182-f265-4842-9cd5-853030d7f144"
      },
      "source": [
        "import keras\r\n",
        "\r\n",
        "embed_size = 128\r\n",
        "model = keras.models.Sequential([\r\n",
        "    keras.layers.Embedding(vocab_size + num_oov_buckets, embed_size,\r\n",
        "                           mask_zero=True, # not shown in the book\r\n",
        "                           input_shape=[None]),\r\n",
        "    keras.layers.GRU(128, return_sequences=True),\r\n",
        "    keras.layers.GRU(128),\r\n",
        "    keras.layers.Dense(5, activation=\"softmax\")\r\n",
        "])\r\n",
        "model.compile(loss=\"sparse_categorical_crossentropy\", optimizer=\"adam\", metrics=[\"accuracy\"])\r\n",
        "history = model.fit(train_set, steps_per_epoch=len(X_train.values) // 32, epochs=5)"
      ],
      "execution_count": null,
      "outputs": [
        {
          "output_type": "stream",
          "text": [
            "Epoch 1/5\n",
            "1371/1371 [==============================] - 53s 30ms/step - loss: 1.1699 - accuracy: 0.5151\n",
            "Epoch 2/5\n",
            "1371/1371 [==============================] - 42s 31ms/step - loss: 0.6071 - accuracy: 0.7770\n",
            "Epoch 3/5\n",
            "1371/1371 [==============================] - 42s 31ms/step - loss: 0.4503 - accuracy: 0.8402\n",
            "Epoch 4/5\n",
            "1371/1371 [==============================] - 42s 30ms/step - loss: 0.3393 - accuracy: 0.8801\n",
            "Epoch 5/5\n",
            "1371/1371 [==============================] - 41s 30ms/step - loss: 0.2621 - accuracy: 0.9081\n"
          ],
          "name": "stdout"
        }
      ]
    },
    {
      "cell_type": "code",
      "metadata": {
        "colab": {
          "base_uri": "https://localhost:8080/"
        },
        "id": "LaKe48mFNLQe",
        "outputId": "ce297120-05cc-4fc9-b344-2ed65d9a76a0"
      },
      "source": [
        "model.evaluate(valid_set)"
      ],
      "execution_count": null,
      "outputs": [
        {
          "output_type": "stream",
          "text": [
            "343/343 [==============================] - 4s 6ms/step - loss: 1.1830 - accuracy: 0.7158\n"
          ],
          "name": "stdout"
        },
        {
          "output_type": "execute_result",
          "data": {
            "text/plain": [
              "[1.182963252067566, 0.7158345580101013]"
            ]
          },
          "metadata": {
            "tags": []
          },
          "execution_count": 18
        }
      ]
    },
    {
      "cell_type": "code",
      "metadata": {
        "colab": {
          "base_uri": "https://localhost:8080/",
          "height": 227
        },
        "id": "T0ytiaQcWlsM",
        "outputId": "22ba108f-5421-488f-e540-39ed9b8b8e16"
      },
      "source": [
        "test_df = pd.read_csv('/content/test_x.csv', index_col='index')\r\n",
        "test_df['author'] = -1\r\n",
        "test_df.head()"
      ],
      "execution_count": null,
      "outputs": [
        {
          "output_type": "execute_result",
          "data": {
            "text/html": [
              "<div>\n",
              "<style scoped>\n",
              "    .dataframe tbody tr th:only-of-type {\n",
              "        vertical-align: middle;\n",
              "    }\n",
              "\n",
              "    .dataframe tbody tr th {\n",
              "        vertical-align: top;\n",
              "    }\n",
              "\n",
              "    .dataframe thead th {\n",
              "        text-align: right;\n",
              "    }\n",
              "</style>\n",
              "<table border=\"1\" class=\"dataframe\">\n",
              "  <thead>\n",
              "    <tr style=\"text-align: right;\">\n",
              "      <th></th>\n",
              "      <th>text</th>\n",
              "      <th>author</th>\n",
              "    </tr>\n",
              "    <tr>\n",
              "      <th>index</th>\n",
              "      <th></th>\n",
              "      <th></th>\n",
              "    </tr>\n",
              "  </thead>\n",
              "  <tbody>\n",
              "    <tr>\n",
              "      <th>0</th>\n",
              "      <td>“Not at all. I think she is one of the most ch...</td>\n",
              "      <td>-1</td>\n",
              "    </tr>\n",
              "    <tr>\n",
              "      <th>1</th>\n",
              "      <td>\"No,\" replied he, with sudden consciousness, \"...</td>\n",
              "      <td>-1</td>\n",
              "    </tr>\n",
              "    <tr>\n",
              "      <th>2</th>\n",
              "      <td>As the lady had stated her intention of scream...</td>\n",
              "      <td>-1</td>\n",
              "    </tr>\n",
              "    <tr>\n",
              "      <th>3</th>\n",
              "      <td>“And then suddenly in the silence I heard a so...</td>\n",
              "      <td>-1</td>\n",
              "    </tr>\n",
              "    <tr>\n",
              "      <th>4</th>\n",
              "      <td>His conviction remained unchanged. So far as I...</td>\n",
              "      <td>-1</td>\n",
              "    </tr>\n",
              "  </tbody>\n",
              "</table>\n",
              "</div>"
            ],
            "text/plain": [
              "                                                    text  author\n",
              "index                                                           \n",
              "0      “Not at all. I think she is one of the most ch...      -1\n",
              "1      \"No,\" replied he, with sudden consciousness, \"...      -1\n",
              "2      As the lady had stated her intention of scream...      -1\n",
              "3      “And then suddenly in the silence I heard a so...      -1\n",
              "4      His conviction remained unchanged. So far as I...      -1"
            ]
          },
          "metadata": {
            "tags": []
          },
          "execution_count": 19
        }
      ]
    },
    {
      "cell_type": "code",
      "metadata": {
        "id": "0fkx4jAEX69G"
      },
      "source": [
        "test_ds = tf.data.Dataset.from_tensor_slices((test_df.text.values, test_df.author.values))"
      ],
      "execution_count": null,
      "outputs": []
    },
    {
      "cell_type": "code",
      "metadata": {
        "id": "YrqfuaynYMzV"
      },
      "source": [
        "test_set = test_ds.batch(32).map(preprocess)\r\n",
        "test_set = test_set.map(encode_words).prefetch(1)"
      ],
      "execution_count": null,
      "outputs": []
    },
    {
      "cell_type": "code",
      "metadata": {
        "colab": {
          "base_uri": "https://localhost:8080/"
        },
        "id": "DWJ2qGLBYfGz",
        "outputId": "f5f2ba1b-c5f1-486d-d275-1ef72a6d04ae"
      },
      "source": [
        "result = model.predict_classes(test_set)"
      ],
      "execution_count": null,
      "outputs": [
        {
          "output_type": "stream",
          "text": [
            "/usr/local/lib/python3.7/dist-packages/tensorflow/python/keras/engine/sequential.py:450: UserWarning: `model.predict_classes()` is deprecated and will be removed after 2021-01-01. Please use instead:* `np.argmax(model.predict(x), axis=-1)`,   if your model does multi-class classification   (e.g. if it uses a `softmax` last-layer activation).* `(model.predict(x) > 0.5).astype(\"int32\")`,   if your model does binary classification   (e.g. if it uses a `sigmoid` last-layer activation).\n",
            "  warnings.warn('`model.predict_classes()` is deprecated and '\n"
          ],
          "name": "stderr"
        }
      ]
    },
    {
      "cell_type": "code",
      "metadata": {
        "colab": {
          "base_uri": "https://localhost:8080/"
        },
        "id": "aCof1L0QYtdc",
        "outputId": "a006e491-06a2-42ef-e262-bc93354d7a60"
      },
      "source": [
        "len(result)"
      ],
      "execution_count": null,
      "outputs": [
        {
          "output_type": "execute_result",
          "data": {
            "text/plain": [
              "19617"
            ]
          },
          "metadata": {
            "tags": []
          },
          "execution_count": 23
        }
      ]
    },
    {
      "cell_type": "code",
      "metadata": {
        "id": "hFV3QEKRZxbN"
      },
      "source": [
        "with open('/content/basic_model.csv', 'w') as f:\r\n",
        "  for i, y_pred in enumerate(result):\r\n",
        "    f.write('{0},{1}\\n'.format(i+1, y_pred))"
      ],
      "execution_count": null,
      "outputs": []
    },
    {
      "cell_type": "code",
      "metadata": {
        "id": "S_hvMhUxl8hF"
      },
      "source": [
        ""
      ],
      "execution_count": null,
      "outputs": []
    }
  ]
}