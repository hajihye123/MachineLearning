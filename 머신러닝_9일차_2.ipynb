{
  "nbformat": 4,
  "nbformat_minor": 0,
  "metadata": {
    "colab": {
      "name": "머신러닝_9일차_2.ipynb",
      "provenance": [],
      "collapsed_sections": [],
      "include_colab_link": true
    },
    "kernelspec": {
      "name": "python3",
      "display_name": "Python 3"
    },
    "accelerator": "GPU"
  },
  "cells": [
    {
      "cell_type": "markdown",
      "metadata": {
        "id": "view-in-github",
        "colab_type": "text"
      },
      "source": [
        "<a href=\"https://colab.research.google.com/github/hajihye123/MachineLearning_Lecture/blob/main/%EB%A8%B8%EC%8B%A0%EB%9F%AC%EB%8B%9D_9%EC%9D%BC%EC%B0%A8_2.ipynb\" target=\"_parent\"><img src=\"https://colab.research.google.com/assets/colab-badge.svg\" alt=\"Open In Colab\"/></a>"
      ]
    },
    {
      "cell_type": "markdown",
      "metadata": {
        "id": "SmUasBxZg59B"
      },
      "source": [
        "# 단변량 시계열 예측"
      ]
    },
    {
      "cell_type": "code",
      "metadata": {
        "id": "S_9w-ELifhc5"
      },
      "source": [
        "import tensorflow as tf\r\n",
        "import numpy as np\r\n",
        "import matplotlib.pyplot as plt\r\n",
        "import pandas as pd\r\n",
        "import os"
      ],
      "execution_count": null,
      "outputs": []
    },
    {
      "cell_type": "markdown",
      "metadata": {
        "id": "QQ4Xsj_ohgpD"
      },
      "source": [
        "##날씨 데이터 불러오기"
      ]
    },
    {
      "cell_type": "code",
      "metadata": {
        "colab": {
          "base_uri": "https://localhost:8080/"
        },
        "id": "4kkxz-maVTe8",
        "outputId": "e9fc4dfe-db71-41b7-c58c-b9f17ef3cdae"
      },
      "source": [
        "zip_path = tf.keras.utils.get_file(\r\n",
        "    origin='https://storage.googleapis.com/tensorflow/tf-keras-datasets/jena_climate_2009_2016.csv.zip',\r\n",
        "    fname='jena_climate_2009_2016.csv.zip',\r\n",
        "    extract=True)\r\n",
        "csv_path, _ = os.path.splitext(zip_path)"
      ],
      "execution_count": null,
      "outputs": [
        {
          "output_type": "stream",
          "text": [
            "Downloading data from https://storage.googleapis.com/tensorflow/tf-keras-datasets/jena_climate_2009_2016.csv.zip\n",
            "13574144/13568290 [==============================] - 0s 0us/step\n"
          ],
          "name": "stdout"
        }
      ]
    },
    {
      "cell_type": "code",
      "metadata": {
        "colab": {
          "base_uri": "https://localhost:8080/",
          "height": 297
        },
        "id": "-ifza-QyfbTs",
        "outputId": "fe0ce036-b8c6-4772-c220-9db77712ee4f"
      },
      "source": [
        "df = pd.read_csv(csv_path)\r\n",
        "df.head()"
      ],
      "execution_count": null,
      "outputs": [
        {
          "output_type": "execute_result",
          "data": {
            "text/html": [
              "<div>\n",
              "<style scoped>\n",
              "    .dataframe tbody tr th:only-of-type {\n",
              "        vertical-align: middle;\n",
              "    }\n",
              "\n",
              "    .dataframe tbody tr th {\n",
              "        vertical-align: top;\n",
              "    }\n",
              "\n",
              "    .dataframe thead th {\n",
              "        text-align: right;\n",
              "    }\n",
              "</style>\n",
              "<table border=\"1\" class=\"dataframe\">\n",
              "  <thead>\n",
              "    <tr style=\"text-align: right;\">\n",
              "      <th></th>\n",
              "      <th>Date Time</th>\n",
              "      <th>p (mbar)</th>\n",
              "      <th>T (degC)</th>\n",
              "      <th>Tpot (K)</th>\n",
              "      <th>Tdew (degC)</th>\n",
              "      <th>rh (%)</th>\n",
              "      <th>VPmax (mbar)</th>\n",
              "      <th>VPact (mbar)</th>\n",
              "      <th>VPdef (mbar)</th>\n",
              "      <th>sh (g/kg)</th>\n",
              "      <th>H2OC (mmol/mol)</th>\n",
              "      <th>rho (g/m**3)</th>\n",
              "      <th>wv (m/s)</th>\n",
              "      <th>max. wv (m/s)</th>\n",
              "      <th>wd (deg)</th>\n",
              "    </tr>\n",
              "  </thead>\n",
              "  <tbody>\n",
              "    <tr>\n",
              "      <th>0</th>\n",
              "      <td>01.01.2009 00:10:00</td>\n",
              "      <td>996.52</td>\n",
              "      <td>-8.02</td>\n",
              "      <td>265.40</td>\n",
              "      <td>-8.90</td>\n",
              "      <td>93.3</td>\n",
              "      <td>3.33</td>\n",
              "      <td>3.11</td>\n",
              "      <td>0.22</td>\n",
              "      <td>1.94</td>\n",
              "      <td>3.12</td>\n",
              "      <td>1307.75</td>\n",
              "      <td>1.03</td>\n",
              "      <td>1.75</td>\n",
              "      <td>152.3</td>\n",
              "    </tr>\n",
              "    <tr>\n",
              "      <th>1</th>\n",
              "      <td>01.01.2009 00:20:00</td>\n",
              "      <td>996.57</td>\n",
              "      <td>-8.41</td>\n",
              "      <td>265.01</td>\n",
              "      <td>-9.28</td>\n",
              "      <td>93.4</td>\n",
              "      <td>3.23</td>\n",
              "      <td>3.02</td>\n",
              "      <td>0.21</td>\n",
              "      <td>1.89</td>\n",
              "      <td>3.03</td>\n",
              "      <td>1309.80</td>\n",
              "      <td>0.72</td>\n",
              "      <td>1.50</td>\n",
              "      <td>136.1</td>\n",
              "    </tr>\n",
              "    <tr>\n",
              "      <th>2</th>\n",
              "      <td>01.01.2009 00:30:00</td>\n",
              "      <td>996.53</td>\n",
              "      <td>-8.51</td>\n",
              "      <td>264.91</td>\n",
              "      <td>-9.31</td>\n",
              "      <td>93.9</td>\n",
              "      <td>3.21</td>\n",
              "      <td>3.01</td>\n",
              "      <td>0.20</td>\n",
              "      <td>1.88</td>\n",
              "      <td>3.02</td>\n",
              "      <td>1310.24</td>\n",
              "      <td>0.19</td>\n",
              "      <td>0.63</td>\n",
              "      <td>171.6</td>\n",
              "    </tr>\n",
              "    <tr>\n",
              "      <th>3</th>\n",
              "      <td>01.01.2009 00:40:00</td>\n",
              "      <td>996.51</td>\n",
              "      <td>-8.31</td>\n",
              "      <td>265.12</td>\n",
              "      <td>-9.07</td>\n",
              "      <td>94.2</td>\n",
              "      <td>3.26</td>\n",
              "      <td>3.07</td>\n",
              "      <td>0.19</td>\n",
              "      <td>1.92</td>\n",
              "      <td>3.08</td>\n",
              "      <td>1309.19</td>\n",
              "      <td>0.34</td>\n",
              "      <td>0.50</td>\n",
              "      <td>198.0</td>\n",
              "    </tr>\n",
              "    <tr>\n",
              "      <th>4</th>\n",
              "      <td>01.01.2009 00:50:00</td>\n",
              "      <td>996.51</td>\n",
              "      <td>-8.27</td>\n",
              "      <td>265.15</td>\n",
              "      <td>-9.04</td>\n",
              "      <td>94.1</td>\n",
              "      <td>3.27</td>\n",
              "      <td>3.08</td>\n",
              "      <td>0.19</td>\n",
              "      <td>1.92</td>\n",
              "      <td>3.09</td>\n",
              "      <td>1309.00</td>\n",
              "      <td>0.32</td>\n",
              "      <td>0.63</td>\n",
              "      <td>214.3</td>\n",
              "    </tr>\n",
              "  </tbody>\n",
              "</table>\n",
              "</div>"
            ],
            "text/plain": [
              "             Date Time  p (mbar)  T (degC)  ...  wv (m/s)  max. wv (m/s)  wd (deg)\n",
              "0  01.01.2009 00:10:00    996.52     -8.02  ...      1.03           1.75     152.3\n",
              "1  01.01.2009 00:20:00    996.57     -8.41  ...      0.72           1.50     136.1\n",
              "2  01.01.2009 00:30:00    996.53     -8.51  ...      0.19           0.63     171.6\n",
              "3  01.01.2009 00:40:00    996.51     -8.31  ...      0.34           0.50     198.0\n",
              "4  01.01.2009 00:50:00    996.51     -8.27  ...      0.32           0.63     214.3\n",
              "\n",
              "[5 rows x 15 columns]"
            ]
          },
          "metadata": {
            "tags": []
          },
          "execution_count": 5
        }
      ]
    },
    {
      "cell_type": "markdown",
      "metadata": {
        "id": "ZBuHcGSRhnRl"
      },
      "source": [
        "## 훈련데이터 재구성"
      ]
    },
    {
      "cell_type": "code",
      "metadata": {
        "id": "zeX-kVCKghg0"
      },
      "source": [
        "def univariate_data(dataset, start_index, end_index, history_size, target_size):\r\n",
        "  data = []\r\n",
        "  labels = []\r\n",
        "\r\n",
        "  start_index = start_index + history_size\r\n",
        "  if end_index is None:\r\n",
        "    end_index = len(dataset) - target_size\r\n",
        "\r\n",
        "  for i in range(start_index, end_index):\r\n",
        "    indices = range(i-history_size, i)\r\n",
        "    # Reshape data from (history_size,) to (history_size, 1)\r\n",
        "    data.append(np.reshape(dataset[indices], (history_size, 1)))\r\n",
        "    labels.append(dataset[i+target_size])\r\n",
        "  return np.array(data), np.array(labels)"
      ],
      "execution_count": null,
      "outputs": []
    },
    {
      "cell_type": "code",
      "metadata": {
        "id": "DpUm1ytWgqR7"
      },
      "source": [
        "TRAIN_SPLIT = 300000\r\n",
        "# 재현성을 보장하기 위해 시드 설정.\r\n",
        "tf.random.set_seed(13)"
      ],
      "execution_count": null,
      "outputs": []
    },
    {
      "cell_type": "code",
      "metadata": {
        "colab": {
          "base_uri": "https://localhost:8080/"
        },
        "id": "wkt6urU1gxbt",
        "outputId": "5c4be2a1-fb06-41a2-8340-4707340d31cf"
      },
      "source": [
        "uni_data = df['T (degC)']\r\n",
        "uni_data.index = df['Date Time']\r\n",
        "uni_data.head()"
      ],
      "execution_count": null,
      "outputs": [
        {
          "output_type": "execute_result",
          "data": {
            "text/plain": [
              "Date Time\n",
              "01.01.2009 00:10:00   -8.02\n",
              "01.01.2009 00:20:00   -8.41\n",
              "01.01.2009 00:30:00   -8.51\n",
              "01.01.2009 00:40:00   -8.31\n",
              "01.01.2009 00:50:00   -8.27\n",
              "Name: T (degC), dtype: float64"
            ]
          },
          "metadata": {
            "tags": []
          },
          "execution_count": 8
        }
      ]
    },
    {
      "cell_type": "code",
      "metadata": {
        "colab": {
          "base_uri": "https://localhost:8080/",
          "height": 347
        },
        "id": "mw3s8l9Pg0lb",
        "outputId": "054d245a-062a-4822-f22a-1b3950ce8cda"
      },
      "source": [
        "uni_data.plot(subplots=True)"
      ],
      "execution_count": null,
      "outputs": [
        {
          "output_type": "execute_result",
          "data": {
            "text/plain": [
              "array([<matplotlib.axes._subplots.AxesSubplot object at 0x7f43af49a2d0>],\n",
              "      dtype=object)"
            ]
          },
          "metadata": {
            "tags": []
          },
          "execution_count": 9
        },
        {
          "output_type": "display_data",
          "data": {
            "image/png": "[encoded data removed]",
            "text/plain": [
              "<Figure size 432x288 with 1 Axes>"
            ]
          },
          "metadata": {
            "tags": [],
            "needs_background": "light"
          }
        }
      ]
    },
    {
      "cell_type": "code",
      "metadata": {
        "id": "6stTFB3Xg2WM"
      },
      "source": [
        "uni_data = uni_data.values"
      ],
      "execution_count": null,
      "outputs": []
    },
    {
      "cell_type": "code",
      "metadata": {
        "id": "BYL9hoAMg4Pc"
      },
      "source": [
        "uni_train_mean = uni_data[:TRAIN_SPLIT].mean()\r\n",
        "uni_train_std = uni_data[:TRAIN_SPLIT].std()\r\n",
        "# 데이터를 표준화합시다.\r\n",
        "uni_data = (uni_data-uni_train_mean)/uni_train_std"
      ],
      "execution_count": null,
      "outputs": []
    },
    {
      "cell_type": "code",
      "metadata": {
        "id": "mP2I2HMUg__0"
      },
      "source": [
        "univariate_past_history = 20\r\n",
        "univariate_future_target = 0\r\n",
        "\r\n",
        "x_train_uni, y_train_uni = univariate_data(uni_data, 0, TRAIN_SPLIT,\r\n",
        "                                           univariate_past_history,\r\n",
        "                                           univariate_future_target)\r\n",
        "x_val_uni, y_val_uni = univariate_data(uni_data, TRAIN_SPLIT, None,\r\n",
        "                                       univariate_past_history,\r\n",
        "                                       univariate_future_target)"
      ],
      "execution_count": null,
      "outputs": []
    },
    {
      "cell_type": "code",
      "metadata": {
        "colab": {
          "base_uri": "https://localhost:8080/"
        },
        "id": "ADaZiRf4hC2y",
        "outputId": "13d7f618-4d13-484c-fbbd-48f8e5c7f30a"
      },
      "source": [
        "print ('Single window of past history')\r\n",
        "print (x_train_uni[0])\r\n",
        "print ('\\n Target temperature to predict')\r\n",
        "print (y_train_uni[0])"
      ],
      "execution_count": null,
      "outputs": [
        {
          "output_type": "stream",
          "text": [
            "Single window of past history\n",
            "[[-1.99766294]\n",
            " [-2.04281897]\n",
            " [-2.05439744]\n",
            " [-2.0312405 ]\n",
            " [-2.02660912]\n",
            " [-2.00113649]\n",
            " [-1.95134907]\n",
            " [-1.95134907]\n",
            " [-1.98492663]\n",
            " [-2.04513467]\n",
            " [-2.08334362]\n",
            " [-2.09723778]\n",
            " [-2.09376424]\n",
            " [-2.09144854]\n",
            " [-2.07176515]\n",
            " [-2.07176515]\n",
            " [-2.07639653]\n",
            " [-2.08913285]\n",
            " [-2.09260639]\n",
            " [-2.10418486]]\n",
            "\n",
            " Target temperature to predict\n",
            "-2.1041848598100876\n"
          ],
          "name": "stdout"
        }
      ]
    },
    {
      "cell_type": "code",
      "metadata": {
        "id": "hMZKhYamhFWr"
      },
      "source": [
        "def create_time_steps(length):\r\n",
        "  return list(range(-length, 0))"
      ],
      "execution_count": null,
      "outputs": []
    },
    {
      "cell_type": "code",
      "metadata": {
        "id": "EaIVuI9whILr"
      },
      "source": [
        "def show_plot(plot_data, delta, title):\r\n",
        "  labels = ['History', 'True Future', 'Model Prediction']\r\n",
        "  marker = ['.-', 'rx', 'go']\r\n",
        "  time_steps = create_time_steps(plot_data[0].shape[0])\r\n",
        "  if delta:\r\n",
        "    future = delta\r\n",
        "  else:\r\n",
        "    future = 0\r\n",
        "\r\n",
        "  plt.title(title)\r\n",
        "  for i, x in enumerate(plot_data):\r\n",
        "    if i:\r\n",
        "      plt.plot(future, plot_data[i], marker[i], markersize=10,\r\n",
        "               label=labels[i])\r\n",
        "    else:\r\n",
        "      plt.plot(time_steps, plot_data[i].flatten(), marker[i], label=labels[i])\r\n",
        "  plt.legend()\r\n",
        "  plt.xlim([time_steps[0], (future+5)*2])\r\n",
        "  plt.xlabel('Time-Step')\r\n",
        "  return plt"
      ],
      "execution_count": null,
      "outputs": []
    },
    {
      "cell_type": "code",
      "metadata": {
        "colab": {
          "base_uri": "https://localhost:8080/",
          "height": 312
        },
        "id": "8dmyqIfxhKZr",
        "outputId": "07cd64c9-e09a-4f34-cd96-21534a837b7d"
      },
      "source": [
        "show_plot([x_train_uni[0], y_train_uni[0]], 0, 'Sample Example')\r\n"
      ],
      "execution_count": null,
      "outputs": [
        {
          "output_type": "execute_result",
          "data": {
            "text/plain": [
              "<module 'matplotlib.pyplot' from '/usr/local/lib/python3.7/dist-packages/matplotlib/pyplot.py'>"
            ]
          },
          "metadata": {
            "tags": []
          },
          "execution_count": 16
        },
        {
          "output_type": "display_data",
          "data": {
            "image/png": "[encoded data removed]",
            "text/plain": [
              "<Figure size 432x288 with 1 Axes>"
            ]
          },
          "metadata": {
            "tags": [],
            "needs_background": "light"
          }
        }
      ]
    },
    {
      "cell_type": "markdown",
      "metadata": {
        "id": "0SqcyiRshuPu"
      },
      "source": [
        "##기본 모델"
      ]
    },
    {
      "cell_type": "code",
      "metadata": {
        "id": "tc6P1V1KhL8M"
      },
      "source": [
        "def baseline(history):\r\n",
        "  return np.mean(history)"
      ],
      "execution_count": null,
      "outputs": []
    },
    {
      "cell_type": "code",
      "metadata": {
        "colab": {
          "base_uri": "https://localhost:8080/",
          "height": 312
        },
        "id": "3XTTb17ihaaU",
        "outputId": "5ae45b62-c3a4-4b4f-9140-cde572db1ad0"
      },
      "source": [
        "show_plot([x_train_uni[0], y_train_uni[0], baseline(x_train_uni[0])], 0,\r\n",
        "           'Baseline Prediction Example')"
      ],
      "execution_count": null,
      "outputs": [
        {
          "output_type": "execute_result",
          "data": {
            "text/plain": [
              "<module 'matplotlib.pyplot' from '/usr/local/lib/python3.7/dist-packages/matplotlib/pyplot.py'>"
            ]
          },
          "metadata": {
            "tags": []
          },
          "execution_count": 18
        },
        {
          "output_type": "display_data",
          "data": {
            "image/png": "[encoded data removed]",
            "text/plain": [
              "<Figure size 432x288 with 1 Axes>"
            ]
          },
          "metadata": {
            "tags": [],
            "needs_background": "light"
          }
        }
      ]
    },
    {
      "cell_type": "markdown",
      "metadata": {
        "id": "jfCk3-iih31p"
      },
      "source": [
        "## RNN"
      ]
    },
    {
      "cell_type": "code",
      "metadata": {
        "id": "nhUMdSZuhbw0"
      },
      "source": [
        "BATCH_SIZE = 256\r\n",
        "BUFFER_SIZE = 10000\r\n",
        "\r\n",
        "train_univariate = tf.data.Dataset.from_tensor_slices((x_train_uni, y_train_uni))\r\n",
        "train_univariate = train_univariate.cache().shuffle(BUFFER_SIZE).batch(BATCH_SIZE).repeat()\r\n",
        "\r\n",
        "val_univariate = tf.data.Dataset.from_tensor_slices((x_val_uni, y_val_uni))\r\n",
        "val_univariate = val_univariate.batch(BATCH_SIZE).repeat()"
      ],
      "execution_count": null,
      "outputs": []
    },
    {
      "cell_type": "code",
      "metadata": {
        "id": "alWWoX8Ch7IC"
      },
      "source": [
        "simple_lstm_model = tf.keras.models.Sequential([\r\n",
        "      # x_train_uni.shape = (299980, 20, 1)\r\n",
        "    tf.keras.layers.LSTM(8, input_shape=x_train_uni.shape[-2:]),\r\n",
        "    tf.keras.layers.Dense(1)\r\n",
        "])\r\n",
        "\r\n",
        "simple_lstm_model.compile(optimizer='adam', loss='mae')"
      ],
      "execution_count": null,
      "outputs": []
    },
    {
      "cell_type": "code",
      "metadata": {
        "colab": {
          "base_uri": "https://localhost:8080/"
        },
        "id": "4BXWMvUeh-J0",
        "outputId": "c3c0ad84-3c51-4237-f32a-18bf7784b3b4"
      },
      "source": [
        "EVALUATION_INTERVAL = 200\r\n",
        "EPOCHS = 10\r\n",
        "\r\n",
        "simple_lstm_model.fit(train_univariate, epochs=EPOCHS,\r\n",
        "                      steps_per_epoch=EVALUATION_INTERVAL,\r\n",
        "                      validation_data=val_univariate, validation_steps=50)"
      ],
      "execution_count": null,
      "outputs": [
        {
          "output_type": "stream",
          "text": [
            "Epoch 1/10\n",
            "200/200 [==============================] - 9s 7ms/step - loss: 0.5855 - val_loss: 0.1351\n",
            "Epoch 2/10\n",
            "200/200 [==============================] - 1s 5ms/step - loss: 0.1559 - val_loss: 0.0360\n",
            "Epoch 3/10\n",
            "200/200 [==============================] - 1s 5ms/step - loss: 0.0506 - val_loss: 0.0289\n",
            "Epoch 4/10\n",
            "200/200 [==============================] - 1s 5ms/step - loss: 0.0511 - val_loss: 0.0258\n",
            "Epoch 5/10\n",
            "200/200 [==============================] - 1s 4ms/step - loss: 0.0271 - val_loss: 0.0235\n",
            "Epoch 6/10\n",
            "200/200 [==============================] - 1s 5ms/step - loss: 0.0289 - val_loss: 0.0226\n",
            "Epoch 7/10\n",
            "200/200 [==============================] - 1s 4ms/step - loss: 0.0312 - val_loss: 0.0206\n",
            "Epoch 8/10\n",
            "200/200 [==============================] - 1s 4ms/step - loss: 0.0280 - val_loss: 0.0199\n",
            "Epoch 9/10\n",
            "200/200 [==============================] - 1s 4ms/step - loss: 0.0256 - val_loss: 0.0182\n",
            "Epoch 10/10\n",
            "200/200 [==============================] - 1s 5ms/step - loss: 0.0239 - val_loss: 0.0173\n"
          ],
          "name": "stdout"
        },
        {
          "output_type": "execute_result",
          "data": {
            "text/plain": [
              "<tensorflow.python.keras.callbacks.History at 0x7f43aef1ce90>"
            ]
          },
          "metadata": {
            "tags": []
          },
          "execution_count": 21
        }
      ]
    },
    {
      "cell_type": "markdown",
      "metadata": {
        "id": "iZA7m5mXiWkJ"
      },
      "source": [
        "# 다변량 시계열 예측"
      ]
    },
    {
      "cell_type": "code",
      "metadata": {
        "colab": {
          "base_uri": "https://localhost:8080/",
          "height": 227
        },
        "id": "Jj_F24oZiZKG",
        "outputId": "849bdb20-24ca-4301-f32c-c973ece2011b"
      },
      "source": [
        "features_considered = ['p (mbar)', 'T (degC)', 'rho (g/m**3)']\r\n",
        "features = df[features_considered]\r\n",
        "features.index = df['Date Time']\r\n",
        "features.head()"
      ],
      "execution_count": null,
      "outputs": [
        {
          "output_type": "execute_result",
          "data": {
            "text/html": [
              "<div>\n",
              "<style scoped>\n",
              "    .dataframe tbody tr th:only-of-type {\n",
              "        vertical-align: middle;\n",
              "    }\n",
              "\n",
              "    .dataframe tbody tr th {\n",
              "        vertical-align: top;\n",
              "    }\n",
              "\n",
              "    .dataframe thead th {\n",
              "        text-align: right;\n",
              "    }\n",
              "</style>\n",
              "<table border=\"1\" class=\"dataframe\">\n",
              "  <thead>\n",
              "    <tr style=\"text-align: right;\">\n",
              "      <th></th>\n",
              "      <th>p (mbar)</th>\n",
              "      <th>T (degC)</th>\n",
              "      <th>rho (g/m**3)</th>\n",
              "    </tr>\n",
              "    <tr>\n",
              "      <th>Date Time</th>\n",
              "      <th></th>\n",
              "      <th></th>\n",
              "      <th></th>\n",
              "    </tr>\n",
              "  </thead>\n",
              "  <tbody>\n",
              "    <tr>\n",
              "      <th>01.01.2009 00:10:00</th>\n",
              "      <td>996.52</td>\n",
              "      <td>-8.02</td>\n",
              "      <td>1307.75</td>\n",
              "    </tr>\n",
              "    <tr>\n",
              "      <th>01.01.2009 00:20:00</th>\n",
              "      <td>996.57</td>\n",
              "      <td>-8.41</td>\n",
              "      <td>1309.80</td>\n",
              "    </tr>\n",
              "    <tr>\n",
              "      <th>01.01.2009 00:30:00</th>\n",
              "      <td>996.53</td>\n",
              "      <td>-8.51</td>\n",
              "      <td>1310.24</td>\n",
              "    </tr>\n",
              "    <tr>\n",
              "      <th>01.01.2009 00:40:00</th>\n",
              "      <td>996.51</td>\n",
              "      <td>-8.31</td>\n",
              "      <td>1309.19</td>\n",
              "    </tr>\n",
              "    <tr>\n",
              "      <th>01.01.2009 00:50:00</th>\n",
              "      <td>996.51</td>\n",
              "      <td>-8.27</td>\n",
              "      <td>1309.00</td>\n",
              "    </tr>\n",
              "  </tbody>\n",
              "</table>\n",
              "</div>"
            ],
            "text/plain": [
              "                     p (mbar)  T (degC)  rho (g/m**3)\n",
              "Date Time                                            \n",
              "01.01.2009 00:10:00    996.52     -8.02       1307.75\n",
              "01.01.2009 00:20:00    996.57     -8.41       1309.80\n",
              "01.01.2009 00:30:00    996.53     -8.51       1310.24\n",
              "01.01.2009 00:40:00    996.51     -8.31       1309.19\n",
              "01.01.2009 00:50:00    996.51     -8.27       1309.00"
            ]
          },
          "metadata": {
            "tags": []
          },
          "execution_count": 22
        }
      ]
    },
    {
      "cell_type": "code",
      "metadata": {
        "colab": {
          "base_uri": "https://localhost:8080/",
          "height": 379
        },
        "id": "s0If4yCuibps",
        "outputId": "c19d7fb5-4463-4cfb-a511-bde15c235f19"
      },
      "source": [
        "features.plot(subplots=True)"
      ],
      "execution_count": null,
      "outputs": [
        {
          "output_type": "execute_result",
          "data": {
            "text/plain": [
              "array([<matplotlib.axes._subplots.AxesSubplot object at 0x7f43ab70b290>,\n",
              "       <matplotlib.axes._subplots.AxesSubplot object at 0x7f43adc41890>,\n",
              "       <matplotlib.axes._subplots.AxesSubplot object at 0x7f43adbf7c50>],\n",
              "      dtype=object)"
            ]
          },
          "metadata": {
            "tags": []
          },
          "execution_count": 23
        },
        {
          "output_type": "display_data",
          "data": {
            "image/png": "[encoded data removed]",
            "text/plain": [
              "<Figure size 432x288 with 3 Axes>"
            ]
          },
          "metadata": {
            "tags": [],
            "needs_background": "light"
          }
        }
      ]
    },
    {
      "cell_type": "code",
      "metadata": {
        "id": "HLGm90STifB7"
      },
      "source": [
        "dataset = features.values\r\n",
        "data_mean = dataset[:TRAIN_SPLIT].mean(axis=0)\r\n",
        "data_std = dataset[:TRAIN_SPLIT].std(axis=0)\r\n",
        "# 표준화\r\n",
        "dataset = (dataset-data_mean)/data_std"
      ],
      "execution_count": null,
      "outputs": []
    },
    {
      "cell_type": "markdown",
      "metadata": {
        "id": "VMybmLHmikvo"
      },
      "source": [
        "## Single Step Model"
      ]
    },
    {
      "cell_type": "code",
      "metadata": {
        "id": "khVraUICiiPU"
      },
      "source": [
        "def multivariate_data(dataset, target, start_index, end_index, history_size,\r\n",
        "                      target_size, step, single_step=False):\r\n",
        "  data = []\r\n",
        "  labels = []\r\n",
        "\r\n",
        "  start_index = start_index + history_size\r\n",
        "  if end_index is None:\r\n",
        "    end_index = len(dataset) - target_size\r\n",
        "\r\n",
        "  for i in range(start_index, end_index):\r\n",
        "    indices = range(i-history_size, i, step)\r\n",
        "    data.append(dataset[indices])\r\n",
        "\r\n",
        "    if single_step:\r\n",
        "      labels.append(target[i+target_size])\r\n",
        "    else:\r\n",
        "      labels.append(target[i:i+target_size])\r\n",
        "\r\n",
        "  return np.array(data), np.array(labels)"
      ],
      "execution_count": null,
      "outputs": []
    },
    {
      "cell_type": "code",
      "metadata": {
        "id": "DtPiDt45ioyq"
      },
      "source": [
        "past_history = 720\r\n",
        "future_target = 72\r\n",
        "STEP = 6\r\n",
        "\r\n",
        "x_train_single, y_train_single = multivariate_data(dataset, dataset[:, 1], 0,\r\n",
        "                                                   TRAIN_SPLIT, past_history,\r\n",
        "                                                   future_target, STEP,\r\n",
        "                                                   single_step=True)\r\n",
        "x_val_single, y_val_single = multivariate_data(dataset, dataset[:, 1],\r\n",
        "                                               TRAIN_SPLIT, None, past_history,\r\n",
        "                                               future_target, STEP,\r\n",
        "                                               single_step=True)"
      ],
      "execution_count": null,
      "outputs": []
    },
    {
      "cell_type": "code",
      "metadata": {
        "colab": {
          "base_uri": "https://localhost:8080/"
        },
        "id": "eHL99Wmgiq7D",
        "outputId": "1d5b8d76-50c5-41b5-c021-4097a437e8fb"
      },
      "source": [
        "print ('Single window of past history : {}'.format(x_train_single[0].shape))\r\n"
      ],
      "execution_count": null,
      "outputs": [
        {
          "output_type": "stream",
          "text": [
            "Single window of past history : (120, 3)\n"
          ],
          "name": "stdout"
        }
      ]
    },
    {
      "cell_type": "code",
      "metadata": {
        "id": "nOZTiKyHivtz"
      },
      "source": [
        "train_data_single = tf.data.Dataset.from_tensor_slices((x_train_single, y_train_single))\r\n",
        "train_data_single = train_data_single.cache().shuffle(BUFFER_SIZE).batch(BATCH_SIZE).repeat()\r\n",
        "\r\n",
        "val_data_single = tf.data.Dataset.from_tensor_slices((x_val_single, y_val_single))\r\n",
        "val_data_single = val_data_single.batch(BATCH_SIZE).repeat()"
      ],
      "execution_count": null,
      "outputs": []
    },
    {
      "cell_type": "code",
      "metadata": {
        "id": "WaKDShVIiz_b"
      },
      "source": [
        "single_step_model = tf.keras.models.Sequential()\r\n",
        "single_step_model.add(tf.keras.layers.LSTM(32, input_shape=x_train_single.shape[-2:]))\r\n",
        "single_step_model.add(tf.keras.layers.Dense(1))\r\n",
        "\r\n",
        "single_step_model.compile(optimizer=tf.keras.optimizers.RMSprop(), loss='mae')"
      ],
      "execution_count": null,
      "outputs": []
    },
    {
      "cell_type": "code",
      "metadata": {
        "colab": {
          "base_uri": "https://localhost:8080/"
        },
        "id": "GiN39jKAi1ld",
        "outputId": "5113b208-89b0-4077-ea27-614c53898eb8"
      },
      "source": [
        "single_step_history = single_step_model.fit(train_data_single, epochs=EPOCHS,\r\n",
        "                                            steps_per_epoch=EVALUATION_INTERVAL,\r\n",
        "                                            validation_data=val_data_single,\r\n",
        "                                            validation_steps=50)"
      ],
      "execution_count": null,
      "outputs": [
        {
          "output_type": "stream",
          "text": [
            "Epoch 1/10\n",
            "200/200 [==============================] - 4s 11ms/step - loss: 0.3622 - val_loss: 0.2646\n",
            "Epoch 2/10\n",
            "200/200 [==============================] - 2s 9ms/step - loss: 0.2685 - val_loss: 0.2437\n",
            "Epoch 3/10\n",
            "200/200 [==============================] - 2s 9ms/step - loss: 0.2662 - val_loss: 0.2472\n",
            "Epoch 4/10\n",
            "200/200 [==============================] - 2s 11ms/step - loss: 0.2629 - val_loss: 0.2445\n",
            "Epoch 5/10\n",
            "200/200 [==============================] - 2s 9ms/step - loss: 0.2205 - val_loss: 0.2339\n",
            "Epoch 6/10\n",
            "200/200 [==============================] - 2s 9ms/step - loss: 0.2457 - val_loss: 0.2692\n",
            "Epoch 7/10\n",
            "200/200 [==============================] - 2s 8ms/step - loss: 0.2429 - val_loss: 0.2556\n",
            "Epoch 8/10\n",
            "200/200 [==============================] - 2s 8ms/step - loss: 0.2428 - val_loss: 0.2384\n",
            "Epoch 9/10\n",
            "200/200 [==============================] - 2s 8ms/step - loss: 0.2491 - val_loss: 0.2474\n",
            "Epoch 10/10\n",
            "200/200 [==============================] - 2s 8ms/step - loss: 0.2506 - val_loss: 0.2455\n"
          ],
          "name": "stdout"
        }
      ]
    },
    {
      "cell_type": "markdown",
      "metadata": {
        "id": "nwPZRpl7jBCN"
      },
      "source": [
        "## Multi Step Model"
      ]
    },
    {
      "cell_type": "code",
      "metadata": {
        "id": "P6XZJHi3i84T"
      },
      "source": [
        "future_target = 72\r\n",
        "x_train_multi, y_train_multi = multivariate_data(dataset, dataset[:, 1], 0,\r\n",
        "                                                 TRAIN_SPLIT, past_history,\r\n",
        "                                                 future_target, STEP)\r\n",
        "x_val_multi, y_val_multi = multivariate_data(dataset, dataset[:, 1],\r\n",
        "                                             TRAIN_SPLIT, None, past_history,\r\n",
        "                                             future_target, STEP)"
      ],
      "execution_count": null,
      "outputs": []
    },
    {
      "cell_type": "code",
      "metadata": {
        "colab": {
          "base_uri": "https://localhost:8080/"
        },
        "id": "TAAWRiKVjFA6",
        "outputId": "ddb75c61-a355-46a9-a60d-e7f03f451b7b"
      },
      "source": [
        "print ('Single window of past history : {}'.format(x_train_multi[0].shape))\r\n",
        "print ('\\n Target temperature to predict : {}'.format(y_train_multi[0].shape))"
      ],
      "execution_count": null,
      "outputs": [
        {
          "output_type": "stream",
          "text": [
            "Single window of past history : (120, 3)\n",
            "\n",
            " Target temperature to predict : (72,)\n"
          ],
          "name": "stdout"
        }
      ]
    },
    {
      "cell_type": "code",
      "metadata": {
        "id": "vOGXlo2ojGm7"
      },
      "source": [
        "train_data_multi = tf.data.Dataset.from_tensor_slices((x_train_multi, y_train_multi))\r\n",
        "train_data_multi = train_data_multi.cache().shuffle(BUFFER_SIZE).batch(BATCH_SIZE).repeat()\r\n",
        "\r\n",
        "val_data_multi = tf.data.Dataset.from_tensor_slices((x_val_multi, y_val_multi))\r\n",
        "val_data_multi = val_data_multi.batch(BATCH_SIZE).repeat()"
      ],
      "execution_count": null,
      "outputs": []
    },
    {
      "cell_type": "code",
      "metadata": {
        "colab": {
          "base_uri": "https://localhost:8080/"
        },
        "id": "IZRJ5vKejIOF",
        "outputId": "b6269104-9af7-444b-c290-17b66ea1f7f1"
      },
      "source": [
        "multi_step_model = tf.keras.models.Sequential()\r\n",
        "multi_step_model.add(tf.keras.layers.LSTM(32,\r\n",
        "                                          return_sequences=True,\r\n",
        "                                          input_shape=x_train_multi.shape[-2:]))\r\n",
        "multi_step_model.add(tf.keras.layers.LSTM(16, activation='relu'))\r\n",
        "multi_step_model.add(tf.keras.layers.Dense(72))\r\n",
        "\r\n",
        "multi_step_model.compile(optimizer=tf.keras.optimizers.RMSprop(clipvalue=1.0), loss='mae')"
      ],
      "execution_count": null,
      "outputs": [
        {
          "output_type": "stream",
          "text": [
            "WARNING:tensorflow:Layer lstm_3 will not use cuDNN kernel since it doesn't meet the cuDNN kernel criteria. It will use generic GPU kernel as fallback when running on GPU\n"
          ],
          "name": "stdout"
        }
      ]
    },
    {
      "cell_type": "code",
      "metadata": {
        "colab": {
          "base_uri": "https://localhost:8080/"
        },
        "id": "FYP7VTCQjLUC",
        "outputId": "83c14d47-33d4-45ab-8458-3a5e39e19a3d"
      },
      "source": [
        "multi_step_history = multi_step_model.fit(train_data_multi, epochs=EPOCHS,\r\n",
        "                                          steps_per_epoch=EVALUATION_INTERVAL,\r\n",
        "                                          validation_data=val_data_multi,\r\n",
        "                                          validation_steps=50)"
      ],
      "execution_count": null,
      "outputs": [
        {
          "output_type": "stream",
          "text": [
            "Epoch 1/10\n",
            "200/200 [==============================] - 41s 195ms/step - loss: 304.1243 - val_loss: 0.2898\n",
            "Epoch 2/10\n",
            "200/200 [==============================] - 38s 190ms/step - loss: 0.3308 - val_loss: 0.2862\n",
            "Epoch 3/10\n",
            "200/200 [==============================] - 38s 188ms/step - loss: 0.3160 - val_loss: 0.2326\n",
            "Epoch 4/10\n",
            "200/200 [==============================] - 37s 187ms/step - loss: 0.2433 - val_loss: 0.2106\n",
            "Epoch 5/10\n",
            "200/200 [==============================] - 37s 187ms/step - loss: 0.1939 - val_loss: 0.2047\n",
            "Epoch 6/10\n",
            "200/200 [==============================] - 37s 187ms/step - loss: 0.2067 - val_loss: 0.1995\n",
            "Epoch 7/10\n",
            "200/200 [==============================] - 39s 193ms/step - loss: 0.2062 - val_loss: 0.2080\n",
            "Epoch 8/10\n",
            "200/200 [==============================] - 38s 189ms/step - loss: 0.2021 - val_loss: 0.2014\n",
            "Epoch 9/10\n",
            "200/200 [==============================] - 37s 184ms/step - loss: 0.2050 - val_loss: 0.1965\n",
            "Epoch 10/10\n",
            "200/200 [==============================] - 37s 183ms/step - loss: 0.2009 - val_loss: 0.1908\n"
          ],
          "name": "stdout"
        }
      ]
    },
    {
      "cell_type": "markdown",
      "metadata": {
        "id": "aw1XITaQkHSC"
      },
      "source": [
        "# 셰익스피어 문체 생성하기"
      ]
    },
    {
      "cell_type": "markdown",
      "metadata": {
        "id": "SO0MNCO7lH_G"
      },
      "source": [
        "![image.png](data:image/png;base64,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)"
      ]
    },
    {
      "cell_type": "code",
      "metadata": {
        "colab": {
          "base_uri": "https://localhost:8080/"
        },
        "id": "AcrlEiE4kj6C",
        "outputId": "5ef76b97-f800-42c8-9feb-af2037d912b0"
      },
      "source": [
        "import keras\r\n",
        "\r\n",
        "shakespeare_url = \"https://raw.githubusercontent.com/karpathy/char-rnn/master/data/tinyshakespeare/input.txt\"\r\n",
        "filepath = keras.utils.get_file(\"shakespeare.txt\", shakespeare_url)\r\n",
        "with open(filepath) as f:\r\n",
        "    shakespeare_text = f.read()"
      ],
      "execution_count": null,
      "outputs": [
        {
          "output_type": "stream",
          "text": [
            "Downloading data from https://raw.githubusercontent.com/karpathy/char-rnn/master/data/tinyshakespeare/input.txt\n",
            "1122304/1115394 [==============================] - 0s 0us/step\n"
          ],
          "name": "stdout"
        }
      ]
    },
    {
      "cell_type": "code",
      "metadata": {
        "colab": {
          "base_uri": "https://localhost:8080/"
        },
        "id": "ZLrrGEwslag8",
        "outputId": "577635b7-c007-48e6-e4e7-54c497e7cd63"
      },
      "source": [
        "print(shakespeare_text[:148])\r\n"
      ],
      "execution_count": null,
      "outputs": [
        {
          "output_type": "stream",
          "text": [
            "First Citizen:\n",
            "Before we proceed any further, hear me speak.\n",
            "\n",
            "All:\n",
            "Speak, speak.\n",
            "\n",
            "First Citizen:\n",
            "You are all resolved rather to die than to famish?\n",
            "\n"
          ],
          "name": "stdout"
        }
      ]
    },
    {
      "cell_type": "code",
      "metadata": {
        "colab": {
          "base_uri": "https://localhost:8080/",
          "height": 34
        },
        "id": "7p968EqKlepa",
        "outputId": "65f1dd07-12fe-40dd-c9b5-9f4d3d8417ec"
      },
      "source": [
        "\"\".join(sorted(set(shakespeare_text.lower())))"
      ],
      "execution_count": null,
      "outputs": [
        {
          "output_type": "execute_result",
          "data": {
            "application/vnd.google.colaboratory.intrinsic+json": {
              "type": "string"
            },
            "text/plain": [
              "\"\\n !$&',-.3:;?abcdefghijklmnopqrstuvwxyz\""
            ]
          },
          "metadata": {
            "tags": []
          },
          "execution_count": 38
        }
      ]
    },
    {
      "cell_type": "code",
      "metadata": {
        "id": "sAT2P9kzlllc"
      },
      "source": [
        "tokenizer = keras.preprocessing.text.Tokenizer(char_level=True)\r\n",
        "tokenizer.fit_on_texts(shakespeare_text)"
      ],
      "execution_count": null,
      "outputs": []
    },
    {
      "cell_type": "code",
      "metadata": {
        "colab": {
          "base_uri": "https://localhost:8080/"
        },
        "id": "OfvKqPi3lnPN",
        "outputId": "0d964682-a4cc-44dd-b1cf-0ffb306c844c"
      },
      "source": [
        "tokenizer.texts_to_sequences([\"First\"])"
      ],
      "execution_count": null,
      "outputs": [
        {
          "output_type": "execute_result",
          "data": {
            "text/plain": [
              "[[20, 6, 9, 8, 3]]"
            ]
          },
          "metadata": {
            "tags": []
          },
          "execution_count": 40
        }
      ]
    },
    {
      "cell_type": "code",
      "metadata": {
        "colab": {
          "base_uri": "https://localhost:8080/"
        },
        "id": "ztuDQaaRlpSK",
        "outputId": "d90b6d1c-c0a1-4521-9408-349cc48a7931"
      },
      "source": [
        "tokenizer.sequences_to_texts([[20, 6, 9, 8, 3]])"
      ],
      "execution_count": null,
      "outputs": [
        {
          "output_type": "execute_result",
          "data": {
            "text/plain": [
              "['f i r s t']"
            ]
          },
          "metadata": {
            "tags": []
          },
          "execution_count": 41
        }
      ]
    },
    {
      "cell_type": "code",
      "metadata": {
        "colab": {
          "base_uri": "https://localhost:8080/"
        },
        "id": "T7kDN7ahlrNi",
        "outputId": "debcb735-0940-4bc6-d465-5add3b2bab11"
      },
      "source": [
        "max_id = len(tokenizer.word_index) # number of distinct characters\r\n",
        "dataset_size = tokenizer.document_count # total number of characters\r\n",
        "max_id, dataset_size"
      ],
      "execution_count": null,
      "outputs": [
        {
          "output_type": "execute_result",
          "data": {
            "text/plain": [
              "(39, 1115394)"
            ]
          },
          "metadata": {
            "tags": []
          },
          "execution_count": 53
        }
      ]
    },
    {
      "cell_type": "code",
      "metadata": {
        "id": "1T0iYig7ltFz"
      },
      "source": [
        "[encoded] = np.array(tokenizer.texts_to_sequences([shakespeare_text])) - 1\r\n",
        "train_size = dataset_size * 90 // 100\r\n",
        "dataset = tf.data.Dataset.from_tensor_slices(encoded[:train_size])"
      ],
      "execution_count": null,
      "outputs": []
    },
    {
      "cell_type": "code",
      "metadata": {
        "id": "_cE-ows_lxmK"
      },
      "source": [
        "n_steps = 100\r\n",
        "window_length = n_steps + 1 # target = input shifted 1 character ahead\r\n",
        "dataset = dataset.repeat().window(window_length, shift=1, drop_remainder=True)"
      ],
      "execution_count": null,
      "outputs": []
    },
    {
      "cell_type": "code",
      "metadata": {
        "id": "SBo3dbl8l2hS"
      },
      "source": [
        "dataset = dataset.flat_map(lambda window: window.batch(window_length))"
      ],
      "execution_count": null,
      "outputs": []
    },
    {
      "cell_type": "code",
      "metadata": {
        "id": "nIcmtMQWl3xz"
      },
      "source": [
        "np.random.seed(42)\r\n",
        "tf.random.set_seed(42)"
      ],
      "execution_count": null,
      "outputs": []
    },
    {
      "cell_type": "code",
      "metadata": {
        "id": "-nTYWciCl5nk"
      },
      "source": [
        "batch_size = 32\r\n",
        "dataset = dataset.shuffle(10000).batch(batch_size)\r\n",
        "dataset = dataset.map(lambda windows: (windows[:, :-1], windows[:, 1:]))"
      ],
      "execution_count": null,
      "outputs": []
    },
    {
      "cell_type": "code",
      "metadata": {
        "id": "LC66zaIel7M9"
      },
      "source": [
        "dataset = dataset.map(\r\n",
        "    lambda X_batch, Y_batch: (tf.one_hot(X_batch, depth=max_id), Y_batch))"
      ],
      "execution_count": null,
      "outputs": []
    },
    {
      "cell_type": "code",
      "metadata": {
        "id": "oJ0LZG6Al9Lc"
      },
      "source": [
        "dataset = dataset.prefetch(1)"
      ],
      "execution_count": null,
      "outputs": []
    },
    {
      "cell_type": "code",
      "metadata": {
        "colab": {
          "base_uri": "https://localhost:8080/"
        },
        "id": "YxHfeBcPl_Fj",
        "outputId": "e902cac7-db11-4564-9f61-005ef1280232"
      },
      "source": [
        "for X_batch, Y_batch in dataset.take(1):\r\n",
        "    print(X_batch.shape, Y_batch.shape)\r\n",
        "    print(X_batch[0])"
      ],
      "execution_count": null,
      "outputs": [
        {
          "output_type": "stream",
          "text": [
            "(32, 100, 39) (32, 100)\n",
            "tf.Tensor(\n",
            "[[0. 0. 0. ... 0. 0. 0.]\n",
            " [1. 0. 0. ... 0. 0. 0.]\n",
            " [0. 0. 1. ... 0. 0. 0.]\n",
            " ...\n",
            " [0. 0. 0. ... 0. 0. 0.]\n",
            " [0. 0. 0. ... 0. 0. 0.]\n",
            " [0. 0. 0. ... 0. 0. 0.]], shape=(100, 39), dtype=float32)\n"
          ],
          "name": "stdout"
        }
      ]
    },
    {
      "cell_type": "code",
      "metadata": {
        "colab": {
          "base_uri": "https://localhost:8080/"
        },
        "id": "h1C1uqoTmCA8",
        "outputId": "22234ea0-e1b7-4059-bd16-a87c8f3b183a"
      },
      "source": [
        "model = keras.models.Sequential([\r\n",
        "    keras.layers.GRU(128, return_sequences=True, input_shape=[None, max_id],\r\n",
        "                     dropout=0.2), #recurrent_dropout=0.2),\r\n",
        "    keras.layers.GRU(128, return_sequences=True,\r\n",
        "                     dropout=0.2), #recurrent_dropout=0.2),\r\n",
        "    keras.layers.TimeDistributed(keras.layers.Dense(max_id,\r\n",
        "                                                    activation=\"softmax\"))\r\n",
        "])\r\n",
        "model.compile(loss=\"sparse_categorical_crossentropy\", optimizer=\"adam\")\r\n",
        "history = model.fit(dataset, steps_per_epoch=train_size // batch_size,\r\n",
        "                    epochs=10)"
      ],
      "execution_count": null,
      "outputs": [
        {
          "output_type": "stream",
          "text": [
            "Epoch 1/10\n",
            "31370/31370 [==============================] - 369s 12ms/step - loss: 1.7209\n",
            "Epoch 2/10\n",
            "31370/31370 [==============================] - 351s 11ms/step - loss: 1.5419\n",
            "Epoch 3/10\n",
            "31370/31370 [==============================] - 351s 11ms/step - loss: 1.5169\n",
            "Epoch 4/10\n",
            "11656/31370 [==========>...................] - ETA: 3:39 - loss: 1.5122"
          ],
          "name": "stdout"
        }
      ]
    },
    {
      "cell_type": "code",
      "metadata": {
        "id": "QPcaKJ0jmd7B"
      },
      "source": [
        "def preprocess(texts):\r\n",
        "    X = np.array(tokenizer.texts_to_sequences(texts)) - 1\r\n",
        "    return tf.one_hot(X, max_id)"
      ],
      "execution_count": null,
      "outputs": []
    },
    {
      "cell_type": "code",
      "metadata": {
        "id": "h-Of_HtHmi1U"
      },
      "source": [
        "X_new = preprocess([\"How are yo\"])\r\n",
        "#Y_pred = model.predict_classes(X_new)\r\n",
        "Y_pred = np.argmax(model.predict(X_new), axis=-1)\r\n",
        "tokenizer.sequences_to_texts(Y_pred + 1)[0][-1] # 1st sentence, last char"
      ],
      "execution_count": null,
      "outputs": []
    },
    {
      "cell_type": "code",
      "metadata": {
        "id": "01RCrHh_mluD"
      },
      "source": [
        "def next_char(text, temperature=1):\r\n",
        "    X_new = preprocess([text])\r\n",
        "    y_proba = model.predict(X_new)[0, -1:, :]\r\n",
        "    rescaled_logits = tf.math.log(y_proba) / temperature\r\n",
        "    char_id = tf.random.categorical(rescaled_logits, num_samples=1) + 1\r\n",
        "    return tokenizer.sequences_to_texts(char_id.numpy())[0]"
      ],
      "execution_count": null,
      "outputs": []
    },
    {
      "cell_type": "code",
      "metadata": {
        "id": "NHQSqCMGoj9T"
      },
      "source": [
        "tf.random.set_seed(42)\r\n",
        "\r\n",
        "next_char(\"How are yo\", temperature=1)"
      ],
      "execution_count": null,
      "outputs": []
    },
    {
      "cell_type": "code",
      "metadata": {
        "id": "B-e0GWuKolxq"
      },
      "source": [
        "def complete_text(text, n_chars=50, temperature=1):\r\n",
        "    for _ in range(n_chars):\r\n",
        "        text += next_char(text, temperature)\r\n",
        "    return text"
      ],
      "execution_count": null,
      "outputs": []
    },
    {
      "cell_type": "code",
      "metadata": {
        "id": "521Q5-89opaC"
      },
      "source": [
        "tf.random.set_seed(42)\r\n",
        "\r\n",
        "print(complete_text(\"t\", temperature=0.2))"
      ],
      "execution_count": null,
      "outputs": []
    },
    {
      "cell_type": "markdown",
      "metadata": {
        "id": "ZJkiPP1Lo4cs"
      },
      "source": [
        "## 감정분석"
      ]
    },
    {
      "cell_type": "code",
      "metadata": {
        "id": "vku5pFj5osjL"
      },
      "source": [
        "tf.random.set_seed(42)\r\n",
        "(X_train, y_test), (X_valid, y_test) = keras.datasets.imdb.load_data()"
      ],
      "execution_count": null,
      "outputs": []
    },
    {
      "cell_type": "code",
      "metadata": {
        "id": "66qUr2zZo-MD"
      },
      "source": [
        "X_train[0][:10]"
      ],
      "execution_count": null,
      "outputs": []
    },
    {
      "cell_type": "code",
      "metadata": {
        "id": "NT9_BtDoo_ji"
      },
      "source": [
        "word_index = keras.datasets.imdb.get_word_index()\r\n",
        "id_to_word = {id_ + 3: word for word, id_ in word_index.items()}\r\n",
        "for id_, token in enumerate((\"<pad>\", \"<sos>\", \"<unk>\")):\r\n",
        "    id_to_word[id_] = token\r\n",
        "\" \".join([id_to_word[id_] for id_ in X_train[0][:10]])"
      ],
      "execution_count": null,
      "outputs": []
    },
    {
      "cell_type": "code",
      "metadata": {
        "id": "OflpWs3LpEui"
      },
      "source": [
        "import tensorflow_datasets as tfds\r\n",
        "\r\n",
        "datasets, info = tfds.load(\"imdb_reviews\", as_supervised=True, with_info=True)"
      ],
      "execution_count": null,
      "outputs": []
    },
    {
      "cell_type": "code",
      "metadata": {
        "id": "DjHnbGATpIeh"
      },
      "source": [
        "datasets.keys()"
      ],
      "execution_count": null,
      "outputs": []
    },
    {
      "cell_type": "code",
      "metadata": {
        "id": "2Fo0YqGXpLb7"
      },
      "source": [
        "train_size = info.splits[\"train\"].num_examples\r\n",
        "test_size = info.splits[\"test\"].num_examples"
      ],
      "execution_count": null,
      "outputs": []
    },
    {
      "cell_type": "code",
      "metadata": {
        "id": "JmfqQBc-pNor"
      },
      "source": [
        "train_size, test_size"
      ],
      "execution_count": null,
      "outputs": []
    },
    {
      "cell_type": "code",
      "metadata": {
        "id": "J_vOQprupP0L"
      },
      "source": [
        "for X_batch, y_batch in datasets[\"train\"].batch(2).take(1):\r\n",
        "    for review, label in zip(X_batch.numpy(), y_batch.numpy()):\r\n",
        "        print(\"Review:\", review.decode(\"utf-8\")[:200], \"...\")\r\n",
        "        print(\"Label:\", label, \"= Positive\" if label else \"= Negative\")\r\n",
        "        print()"
      ],
      "execution_count": null,
      "outputs": []
    },
    {
      "cell_type": "code",
      "metadata": {
        "id": "Hz0RrYBJpR-Y"
      },
      "source": [
        "def preprocess(X_batch, y_batch):\r\n",
        "    X_batch = tf.strings.substr(X_batch, 0, 300)\r\n",
        "    X_batch = tf.strings.regex_replace(X_batch, rb\"<br\\s*/?>\", b\" \")\r\n",
        "    X_batch = tf.strings.regex_replace(X_batch, b\"[^a-zA-Z']\", b\" \")\r\n",
        "    X_batch = tf.strings.split(X_batch)\r\n",
        "    return X_batch.to_tensor(default_value=b\"<pad>\"), y_batch"
      ],
      "execution_count": null,
      "outputs": []
    },
    {
      "cell_type": "code",
      "metadata": {
        "id": "mvsqaoNZpUvj"
      },
      "source": [
        "preprocess(X_batch, y_batch)"
      ],
      "execution_count": null,
      "outputs": []
    },
    {
      "cell_type": "code",
      "metadata": {
        "id": "u2NeEmOcpXu7"
      },
      "source": [
        "from collections import Counter\r\n",
        "\r\n",
        "vocabulary = Counter()\r\n",
        "for X_batch, y_batch in datasets[\"train\"].batch(32).map(preprocess):\r\n",
        "    for review in X_batch:\r\n",
        "        vocabulary.update(list(review.numpy()))"
      ],
      "execution_count": null,
      "outputs": []
    },
    {
      "cell_type": "code",
      "metadata": {
        "id": "GRaSqClEpaHa"
      },
      "source": [
        "vocabulary.most_common()[:3]"
      ],
      "execution_count": null,
      "outputs": []
    },
    {
      "cell_type": "code",
      "metadata": {
        "id": "BhpsfNK2pb08"
      },
      "source": [
        "len(vocabulary)"
      ],
      "execution_count": null,
      "outputs": []
    },
    {
      "cell_type": "code",
      "metadata": {
        "id": "745hzm7gpdNc"
      },
      "source": [
        "vocab_size = 10000\r\n",
        "truncated_vocabulary = [\r\n",
        "    word for word, count in vocabulary.most_common()[:vocab_size]]"
      ],
      "execution_count": null,
      "outputs": []
    },
    {
      "cell_type": "code",
      "metadata": {
        "id": "9xcOoYHapgkq"
      },
      "source": [
        "word_to_id = {word: index for index, word in enumerate(truncated_vocabulary)}\r\n",
        "for word in b\"This movie was faaaaaantastic\".split():\r\n",
        "    print(word_to_id.get(word) or vocab_size)"
      ],
      "execution_count": null,
      "outputs": []
    },
    {
      "cell_type": "code",
      "metadata": {
        "id": "h0zPqEPKpjh6"
      },
      "source": [
        "words = tf.constant(truncated_vocabulary)\r\n",
        "word_ids = tf.range(len(truncated_vocabulary), dtype=tf.int64)\r\n",
        "vocab_init = tf.lookup.KeyValueTensorInitializer(words, word_ids)\r\n",
        "num_oov_buckets = 1000\r\n",
        "table = tf.lookup.StaticVocabularyTable(vocab_init, num_oov_buckets)"
      ],
      "execution_count": null,
      "outputs": []
    },
    {
      "cell_type": "code",
      "metadata": {
        "id": "FBQpKw0KpmAi"
      },
      "source": [
        "table.lookup(tf.constant([b\"This movie was faaaaaantastic\".split()]))\r\n"
      ],
      "execution_count": null,
      "outputs": []
    },
    {
      "cell_type": "code",
      "metadata": {
        "id": "1Srg_6XZpnuC"
      },
      "source": [
        "def encode_words(X_batch, y_batch):\r\n",
        "    return table.lookup(X_batch), y_batch\r\n",
        "\r\n",
        "train_set = datasets[\"train\"].repeat().batch(32).map(preprocess)\r\n",
        "train_set = train_set.map(encode_words).prefetch(1)"
      ],
      "execution_count": null,
      "outputs": []
    },
    {
      "cell_type": "code",
      "metadata": {
        "id": "WTcily-Apr11"
      },
      "source": [
        "for X_batch, y_batch in train_set.take(1):\r\n",
        "    print(X_batch)\r\n",
        "    print(y_batch)"
      ],
      "execution_count": null,
      "outputs": []
    },
    {
      "cell_type": "code",
      "metadata": {
        "id": "Z9jhrGitpuj6"
      },
      "source": [
        "embed_size = 128\r\n",
        "model = keras.models.Sequential([\r\n",
        "    keras.layers.Embedding(vocab_size + num_oov_buckets, embed_size,\r\n",
        "                           mask_zero=True, # not shown in the book\r\n",
        "                           input_shape=[None]),\r\n",
        "    keras.layers.GRU(128, return_sequences=True),\r\n",
        "    keras.layers.GRU(128),\r\n",
        "    keras.layers.Dense(1, activation=\"sigmoid\")\r\n",
        "])\r\n",
        "model.compile(loss=\"binary_crossentropy\", optimizer=\"adam\", metrics=[\"accuracy\"])\r\n",
        "history = model.fit(train_set, steps_per_epoch=train_size // 32, epochs=5)"
      ],
      "execution_count": null,
      "outputs": []
    },
    {
      "cell_type": "code",
      "metadata": {
        "id": "Rqo_axtSpx71"
      },
      "source": [
        ""
      ],
      "execution_count": null,
      "outputs": []
    }
  ]
}